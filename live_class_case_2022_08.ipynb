{
 "cells": [
  {
   "cell_type": "markdown",
   "id": "b809cec8",
   "metadata": {},
   "source": [
    "# Case de Machine Learning para Live Class FIAP\n",
    "# Agosto de 2022\n",
    "## Instrutor: Bruno Curtarelli (Head of Data Science - Petlove & Co)\n",
    "\n",
    "### Currículo\n",
    "- Estatística Unicamp\n",
    "- MBA gestão FIA/PROVAR\n",
    "- Especializações em Machine Learning e Deep Learning - Andrew Ng (coursera)\n",
    "\n",
    "### Experiência\n",
    "- Data Scientist Nielsen\n",
    "- Head Data Science Behup\n",
    "- Head Data Science e fundador da área de dados da Petlove em 2018\n",
    "\n",
    "Atualmente trabalhando com foco em Planejamento e Ressuprimento, desenvolvendo produtos de dados para previsão de demanda e sugestão de compra, além de robôs para monitorar todo o processo e auxiliar na melhoria contínua dos principais indicadores da companhia"
   ]
  },
  {
   "cell_type": "markdown",
   "id": "734dc2e2",
   "metadata": {},
   "source": [
    "Encontro do time de Digital da Petlove & Co\n",
    "\n",
    "<img src=\"bruno.jpeg\" alt=![bruno.jpeg] align=\"left\" width=\"700\" height=\"700\" />"
   ]
  },
  {
   "cell_type": "markdown",
   "id": "6c176908",
   "metadata": {},
   "source": [
    "## Contexto do Problema que veremos hoje: e-commerce / varejista\n",
    "\n",
    "### Dados disponíveis:\n",
    "- Transações por cliente, com data, produto, valores\n",
    "\n",
    "### O que gostaríamos de ter?\n",
    "- Uma previsão para saber se o cliente vai recomprar e quanto ele deve gastar conosco futuramente\n",
    "- Uma segmentação dos clientes por nível de gastos e engajamento na nossa loja\n",
    "\n",
    "### Como usamos isso na prática?\n",
    "- Otimizar investimentos de marketing\n",
    "- Customizar campanhas de CRM\n",
    "- Trabalhar descontos e brindes de maneira inteligente\n",
    "- Ações de retenção e de atendimento personalizadas"
   ]
  },
  {
   "cell_type": "markdown",
   "id": "7cf31459",
   "metadata": {},
   "source": [
    "### Pacotes iniciais\n",
    "Posteriormente importaremos os pacotes para aplicação do método de segmentação de clientes (K-means) e o pacote pare prever gastos futuros dos clientes e probabilidade do cliente estar \"vivo\" (Lifetimes)"
   ]
  },
  {
   "cell_type": "code",
   "execution_count": 1,
   "id": "20021131",
   "metadata": {},
   "outputs": [],
   "source": [
    "import pandas as pd\n",
    "import numpy as np\n",
    "import datetime as dt\n",
    "\n",
    "import matplotlib.pyplot as plt\n",
    "%matplotlib inline"
   ]
  },
  {
   "cell_type": "markdown",
   "id": "7088c24b",
   "metadata": {},
   "source": [
    "### Leitura dos dados\n",
    "Obtidos em: https://www.kaggle.com/datasets/aslanahmedov/market-basket-analysis?select=Assignment-1_Data.csv"
   ]
  },
  {
   "cell_type": "code",
   "execution_count": 2,
   "id": "8961b266",
   "metadata": {},
   "outputs": [],
   "source": [
    "df = pd.read_csv('transaction_data_example.csv', low_memory=False)"
   ]
  },
  {
   "cell_type": "markdown",
   "id": "301a737a",
   "metadata": {},
   "source": [
    "### Descrição dos Dados\n",
    "\n",
    "- transaction_id: código da transação\n",
    "- product: descritivo do produto\n",
    "- quantity: quantidade comprada\n",
    "- date: timestamp com a data e hora da transação\n",
    "- price: preço unitário do produto\n",
    "- customer_id: código de identificação do cliente\n",
    "- country: país de residência do cliente"
   ]
  },
  {
   "cell_type": "code",
   "execution_count": 3,
   "id": "77f1f965",
   "metadata": {},
   "outputs": [
    {
     "data": {
      "text/html": [
       "<div>\n",
       "<style scoped>\n",
       "    .dataframe tbody tr th:only-of-type {\n",
       "        vertical-align: middle;\n",
       "    }\n",
       "\n",
       "    .dataframe tbody tr th {\n",
       "        vertical-align: top;\n",
       "    }\n",
       "\n",
       "    .dataframe thead th {\n",
       "        text-align: right;\n",
       "    }\n",
       "</style>\n",
       "<table border=\"1\" class=\"dataframe\">\n",
       "  <thead>\n",
       "    <tr style=\"text-align: right;\">\n",
       "      <th></th>\n",
       "      <th>transaction_id</th>\n",
       "      <th>product</th>\n",
       "      <th>quantity</th>\n",
       "      <th>date</th>\n",
       "      <th>price</th>\n",
       "      <th>customer_id</th>\n",
       "      <th>country</th>\n",
       "    </tr>\n",
       "  </thead>\n",
       "  <tbody>\n",
       "    <tr>\n",
       "      <th>0</th>\n",
       "      <td>536365</td>\n",
       "      <td>WHITE HANGING HEART T-LIGHT HOLDER</td>\n",
       "      <td>6</td>\n",
       "      <td>12/1/2010 8:26</td>\n",
       "      <td>2.55</td>\n",
       "      <td>17850.0</td>\n",
       "      <td>United Kingdom</td>\n",
       "    </tr>\n",
       "    <tr>\n",
       "      <th>1</th>\n",
       "      <td>536365</td>\n",
       "      <td>WHITE METAL LANTERN</td>\n",
       "      <td>6</td>\n",
       "      <td>12/1/2010 8:26</td>\n",
       "      <td>3.39</td>\n",
       "      <td>17850.0</td>\n",
       "      <td>United Kingdom</td>\n",
       "    </tr>\n",
       "    <tr>\n",
       "      <th>2</th>\n",
       "      <td>536365</td>\n",
       "      <td>CREAM CUPID HEARTS COAT HANGER</td>\n",
       "      <td>8</td>\n",
       "      <td>12/1/2010 8:26</td>\n",
       "      <td>2.75</td>\n",
       "      <td>17850.0</td>\n",
       "      <td>United Kingdom</td>\n",
       "    </tr>\n",
       "    <tr>\n",
       "      <th>3</th>\n",
       "      <td>536365</td>\n",
       "      <td>KNITTED UNION FLAG HOT WATER BOTTLE</td>\n",
       "      <td>6</td>\n",
       "      <td>12/1/2010 8:26</td>\n",
       "      <td>3.39</td>\n",
       "      <td>17850.0</td>\n",
       "      <td>United Kingdom</td>\n",
       "    </tr>\n",
       "    <tr>\n",
       "      <th>4</th>\n",
       "      <td>536365</td>\n",
       "      <td>RED WOOLLY HOTTIE WHITE HEART.</td>\n",
       "      <td>6</td>\n",
       "      <td>12/1/2010 8:26</td>\n",
       "      <td>3.39</td>\n",
       "      <td>17850.0</td>\n",
       "      <td>United Kingdom</td>\n",
       "    </tr>\n",
       "  </tbody>\n",
       "</table>\n",
       "</div>"
      ],
      "text/plain": [
       "  transaction_id                              product  quantity  \\\n",
       "0         536365   WHITE HANGING HEART T-LIGHT HOLDER         6   \n",
       "1         536365                  WHITE METAL LANTERN         6   \n",
       "2         536365       CREAM CUPID HEARTS COAT HANGER         8   \n",
       "3         536365  KNITTED UNION FLAG HOT WATER BOTTLE         6   \n",
       "4         536365       RED WOOLLY HOTTIE WHITE HEART.         6   \n",
       "\n",
       "             date  price  customer_id         country  \n",
       "0  12/1/2010 8:26   2.55      17850.0  United Kingdom  \n",
       "1  12/1/2010 8:26   3.39      17850.0  United Kingdom  \n",
       "2  12/1/2010 8:26   2.75      17850.0  United Kingdom  \n",
       "3  12/1/2010 8:26   3.39      17850.0  United Kingdom  \n",
       "4  12/1/2010 8:26   3.39      17850.0  United Kingdom  "
      ]
     },
     "execution_count": 3,
     "metadata": {},
     "output_type": "execute_result"
    }
   ],
   "source": [
    "df.head()"
   ]
  },
  {
   "cell_type": "markdown",
   "id": "87fc6c45",
   "metadata": {},
   "source": [
    "### Com a função \"describe\" podemos ver a contagem dos campos numéricos e suas distribuições"
   ]
  },
  {
   "cell_type": "code",
   "execution_count": 4,
   "id": "7364b6dc",
   "metadata": {},
   "outputs": [
    {
     "data": {
      "text/html": [
       "<div>\n",
       "<style scoped>\n",
       "    .dataframe tbody tr th:only-of-type {\n",
       "        vertical-align: middle;\n",
       "    }\n",
       "\n",
       "    .dataframe tbody tr th {\n",
       "        vertical-align: top;\n",
       "    }\n",
       "\n",
       "    .dataframe thead th {\n",
       "        text-align: right;\n",
       "    }\n",
       "</style>\n",
       "<table border=\"1\" class=\"dataframe\">\n",
       "  <thead>\n",
       "    <tr style=\"text-align: right;\">\n",
       "      <th></th>\n",
       "      <th>quantity</th>\n",
       "      <th>price</th>\n",
       "      <th>customer_id</th>\n",
       "    </tr>\n",
       "  </thead>\n",
       "  <tbody>\n",
       "    <tr>\n",
       "      <th>count</th>\n",
       "      <td>522064.000000</td>\n",
       "      <td>522064.000000</td>\n",
       "      <td>388023.000000</td>\n",
       "    </tr>\n",
       "    <tr>\n",
       "      <th>mean</th>\n",
       "      <td>10.090435</td>\n",
       "      <td>3.826801</td>\n",
       "      <td>15316.931710</td>\n",
       "    </tr>\n",
       "    <tr>\n",
       "      <th>std</th>\n",
       "      <td>161.110525</td>\n",
       "      <td>41.900599</td>\n",
       "      <td>1721.846964</td>\n",
       "    </tr>\n",
       "    <tr>\n",
       "      <th>min</th>\n",
       "      <td>-9600.000000</td>\n",
       "      <td>-11062.060000</td>\n",
       "      <td>12346.000000</td>\n",
       "    </tr>\n",
       "    <tr>\n",
       "      <th>25%</th>\n",
       "      <td>1.000000</td>\n",
       "      <td>1.250000</td>\n",
       "      <td>13950.000000</td>\n",
       "    </tr>\n",
       "    <tr>\n",
       "      <th>50%</th>\n",
       "      <td>3.000000</td>\n",
       "      <td>2.080000</td>\n",
       "      <td>15265.000000</td>\n",
       "    </tr>\n",
       "    <tr>\n",
       "      <th>75%</th>\n",
       "      <td>10.000000</td>\n",
       "      <td>4.130000</td>\n",
       "      <td>16837.000000</td>\n",
       "    </tr>\n",
       "    <tr>\n",
       "      <th>max</th>\n",
       "      <td>80995.000000</td>\n",
       "      <td>13541.330000</td>\n",
       "      <td>18287.000000</td>\n",
       "    </tr>\n",
       "  </tbody>\n",
       "</table>\n",
       "</div>"
      ],
      "text/plain": [
       "            quantity          price    customer_id\n",
       "count  522064.000000  522064.000000  388023.000000\n",
       "mean       10.090435       3.826801   15316.931710\n",
       "std       161.110525      41.900599    1721.846964\n",
       "min     -9600.000000  -11062.060000   12346.000000\n",
       "25%         1.000000       1.250000   13950.000000\n",
       "50%         3.000000       2.080000   15265.000000\n",
       "75%        10.000000       4.130000   16837.000000\n",
       "max     80995.000000   13541.330000   18287.000000"
      ]
     },
     "execution_count": 4,
     "metadata": {},
     "output_type": "execute_result"
    }
   ],
   "source": [
    "df.describe()"
   ]
  },
  {
   "cell_type": "markdown",
   "id": "fbd9a184",
   "metadata": {},
   "source": [
    "### Com a função \"info\" podemos ver a tipagem das colunas"
   ]
  },
  {
   "cell_type": "code",
   "execution_count": 5,
   "id": "6fa23c2b",
   "metadata": {},
   "outputs": [
    {
     "name": "stdout",
     "output_type": "stream",
     "text": [
      "<class 'pandas.core.frame.DataFrame'>\n",
      "RangeIndex: 522064 entries, 0 to 522063\n",
      "Data columns (total 7 columns):\n",
      " #   Column          Non-Null Count   Dtype  \n",
      "---  ------          --------------   -----  \n",
      " 0   transaction_id  522064 non-null  object \n",
      " 1   product         520609 non-null  object \n",
      " 2   quantity        522064 non-null  int64  \n",
      " 3   date            522064 non-null  object \n",
      " 4   price           522064 non-null  float64\n",
      " 5   customer_id     388023 non-null  float64\n",
      " 6   country         522064 non-null  object \n",
      "dtypes: float64(2), int64(1), object(4)\n",
      "memory usage: 27.9+ MB\n"
     ]
    }
   ],
   "source": [
    "df.info()"
   ]
  },
  {
   "cell_type": "markdown",
   "id": "f2175045",
   "metadata": {},
   "source": [
    "## Limpeza de dados faltantes, ajuste de tipos e criação das demais variáveis"
   ]
  },
  {
   "cell_type": "markdown",
   "id": "ea18cbcb",
   "metadata": {},
   "source": [
    "### Remoção de clientes e produtos faltantes"
   ]
  },
  {
   "cell_type": "code",
   "execution_count": 6,
   "id": "8ab65011",
   "metadata": {},
   "outputs": [],
   "source": [
    "df_clean = df.loc[(df['customer_id'].notna()) & (df['product'].notna())].copy()"
   ]
  },
  {
   "cell_type": "markdown",
   "id": "781253d9",
   "metadata": {},
   "source": [
    "### Valor total de cada item-pedido\n",
    "Quantidade x Preço"
   ]
  },
  {
   "cell_type": "code",
   "execution_count": 7,
   "id": "003e105e",
   "metadata": {},
   "outputs": [],
   "source": [
    "df_clean['total_value'] = df_clean['quantity']*df_clean['price']"
   ]
  },
  {
   "cell_type": "markdown",
   "id": "c8500a9c",
   "metadata": {},
   "source": [
    "### Ajustes nos tipos de datas e criação da data atual\n",
    "Como os dados eram antigos, fiz um ajuste nas datas (+10 anos) apenas para trazer mais ao presente"
   ]
  },
  {
   "cell_type": "code",
   "execution_count": 8,
   "id": "28138533",
   "metadata": {},
   "outputs": [],
   "source": [
    "df_clean['date'] = pd.to_datetime(df_clean['date']).dt.date + pd.offsets.DateOffset(years=10)\n",
    "df_clean['current_date'] = pd.Timestamp.now()"
   ]
  },
  {
   "cell_type": "markdown",
   "id": "bb570329",
   "metadata": {},
   "source": [
    "# Análises Descritivas"
   ]
  },
  {
   "cell_type": "markdown",
   "id": "cff4749c",
   "metadata": {},
   "source": [
    "### TOP 10 Países na base de dados - em número de clientes"
   ]
  },
  {
   "cell_type": "markdown",
   "id": "b305cbfc",
   "metadata": {},
   "source": [
    "### Função para agregação dos dados por países e criação de estatísticas"
   ]
  },
  {
   "cell_type": "code",
   "execution_count": 9,
   "id": "307643f5",
   "metadata": {},
   "outputs": [],
   "source": [
    "def country_agg(x):\n",
    "    names = {\n",
    "        'transactions': x['transaction_id'].nunique()\n",
    "        , 'customers': x['customer_id'].nunique()\n",
    "        , 'total_sales': x['total_value'].sum()\n",
    "        , 'average_ticket': x['total_value'].sum()/x['transaction_id'].nunique()\n",
    "        , 'distinct_products': x['product'].nunique()\n",
    "        , 'total_quantity': x['quantity'].sum()\n",
    "        , 'average_products_per_transaction': x['product'].count()/x['transaction_id'].nunique()\n",
    "        , 'average_quantity': x['quantity'].sum()/x['transaction_id'].nunique()\n",
    "    }\n",
    "    return pd.Series(names, index=['transactions'\n",
    "                                  , 'customers'\n",
    "                                  , 'total_sales'\n",
    "                                  , 'average_ticket'\n",
    "                                  , 'distinct_products'\n",
    "                                  , 'total_quantity'\n",
    "                                  , 'average_products_per_transaction'\n",
    "                                  , 'average_quantity'\n",
    "                                  ])"
   ]
  },
  {
   "cell_type": "markdown",
   "id": "8aec4cf5",
   "metadata": {},
   "source": [
    "## Podemos notar que a maior parte das transações estão no Reino Unido\n",
    "- Suiça é o pais com maior ticket médio e maior número de produtos por pedido\n",
    "- Espanha e Italia são os países de menor ticket e produtos por pedido"
   ]
  },
  {
   "cell_type": "code",
   "execution_count": 10,
   "id": "b2a57b2b",
   "metadata": {
    "scrolled": false
   },
   "outputs": [
    {
     "data": {
      "text/html": [
       "<div>\n",
       "<style scoped>\n",
       "    .dataframe tbody tr th:only-of-type {\n",
       "        vertical-align: middle;\n",
       "    }\n",
       "\n",
       "    .dataframe tbody tr th {\n",
       "        vertical-align: top;\n",
       "    }\n",
       "\n",
       "    .dataframe thead th {\n",
       "        text-align: right;\n",
       "    }\n",
       "</style>\n",
       "<table border=\"1\" class=\"dataframe\">\n",
       "  <thead>\n",
       "    <tr style=\"text-align: right;\">\n",
       "      <th></th>\n",
       "      <th>transactions</th>\n",
       "      <th>customers</th>\n",
       "      <th>total_sales</th>\n",
       "      <th>average_ticket</th>\n",
       "      <th>distinct_products</th>\n",
       "      <th>total_quantity</th>\n",
       "      <th>average_products_per_transaction</th>\n",
       "      <th>average_quantity</th>\n",
       "      <th>customer_percent</th>\n",
       "    </tr>\n",
       "    <tr>\n",
       "      <th>country</th>\n",
       "      <th></th>\n",
       "      <th></th>\n",
       "      <th></th>\n",
       "      <th></th>\n",
       "      <th></th>\n",
       "      <th></th>\n",
       "      <th></th>\n",
       "      <th></th>\n",
       "      <th></th>\n",
       "    </tr>\n",
       "  </thead>\n",
       "  <tbody>\n",
       "    <tr>\n",
       "      <th>United Kingdom</th>\n",
       "      <td>16649.0</td>\n",
       "      <td>3921.0</td>\n",
       "      <td>7308391.554</td>\n",
       "      <td>438.968800</td>\n",
       "      <td>3833.0</td>\n",
       "      <td>4269472.0</td>\n",
       "      <td>21.283260</td>\n",
       "      <td>256.440147</td>\n",
       "      <td>91.186047</td>\n",
       "    </tr>\n",
       "    <tr>\n",
       "      <th>Germany</th>\n",
       "      <td>457.0</td>\n",
       "      <td>94.0</td>\n",
       "      <td>228867.140</td>\n",
       "      <td>500.803370</td>\n",
       "      <td>1695.0</td>\n",
       "      <td>119263.0</td>\n",
       "      <td>19.785558</td>\n",
       "      <td>260.969365</td>\n",
       "      <td>2.186047</td>\n",
       "    </tr>\n",
       "    <tr>\n",
       "      <th>France</th>\n",
       "      <td>389.0</td>\n",
       "      <td>87.0</td>\n",
       "      <td>209024.050</td>\n",
       "      <td>537.336889</td>\n",
       "      <td>1543.0</td>\n",
       "      <td>111472.0</td>\n",
       "      <td>21.444730</td>\n",
       "      <td>286.560411</td>\n",
       "      <td>2.023256</td>\n",
       "    </tr>\n",
       "    <tr>\n",
       "      <th>Spain</th>\n",
       "      <td>90.0</td>\n",
       "      <td>30.0</td>\n",
       "      <td>61577.110</td>\n",
       "      <td>684.190111</td>\n",
       "      <td>1104.0</td>\n",
       "      <td>27951.0</td>\n",
       "      <td>27.611111</td>\n",
       "      <td>310.566667</td>\n",
       "      <td>0.697674</td>\n",
       "    </tr>\n",
       "    <tr>\n",
       "      <th>Belgium</th>\n",
       "      <td>98.0</td>\n",
       "      <td>25.0</td>\n",
       "      <td>41196.340</td>\n",
       "      <td>420.370816</td>\n",
       "      <td>784.0</td>\n",
       "      <td>23237.0</td>\n",
       "      <td>20.724490</td>\n",
       "      <td>237.112245</td>\n",
       "      <td>0.581395</td>\n",
       "    </tr>\n",
       "    <tr>\n",
       "      <th>Switzerland</th>\n",
       "      <td>51.0</td>\n",
       "      <td>21.0</td>\n",
       "      <td>56443.950</td>\n",
       "      <td>1106.744118</td>\n",
       "      <td>954.0</td>\n",
       "      <td>30083.0</td>\n",
       "      <td>36.117647</td>\n",
       "      <td>589.862745</td>\n",
       "      <td>0.488372</td>\n",
       "    </tr>\n",
       "    <tr>\n",
       "      <th>Portugal</th>\n",
       "      <td>57.0</td>\n",
       "      <td>19.0</td>\n",
       "      <td>33439.890</td>\n",
       "      <td>586.664737</td>\n",
       "      <td>693.0</td>\n",
       "      <td>16122.0</td>\n",
       "      <td>25.649123</td>\n",
       "      <td>282.842105</td>\n",
       "      <td>0.441860</td>\n",
       "    </tr>\n",
       "    <tr>\n",
       "      <th>Italy</th>\n",
       "      <td>38.0</td>\n",
       "      <td>14.0</td>\n",
       "      <td>17483.240</td>\n",
       "      <td>460.085263</td>\n",
       "      <td>476.0</td>\n",
       "      <td>8112.0</td>\n",
       "      <td>19.947368</td>\n",
       "      <td>213.473684</td>\n",
       "      <td>0.325581</td>\n",
       "    </tr>\n",
       "    <tr>\n",
       "      <th>Austria</th>\n",
       "      <td>17.0</td>\n",
       "      <td>11.0</td>\n",
       "      <td>10198.680</td>\n",
       "      <td>599.922353</td>\n",
       "      <td>306.0</td>\n",
       "      <td>4881.0</td>\n",
       "      <td>23.411765</td>\n",
       "      <td>287.117647</td>\n",
       "      <td>0.255814</td>\n",
       "    </tr>\n",
       "    <tr>\n",
       "      <th>Norway</th>\n",
       "      <td>36.0</td>\n",
       "      <td>10.0</td>\n",
       "      <td>36165.440</td>\n",
       "      <td>1004.595556</td>\n",
       "      <td>595.0</td>\n",
       "      <td>19338.0</td>\n",
       "      <td>29.777778</td>\n",
       "      <td>537.166667</td>\n",
       "      <td>0.232558</td>\n",
       "    </tr>\n",
       "  </tbody>\n",
       "</table>\n",
       "</div>"
      ],
      "text/plain": [
       "                transactions  customers  total_sales  average_ticket  \\\n",
       "country                                                                \n",
       "United Kingdom       16649.0     3921.0  7308391.554      438.968800   \n",
       "Germany                457.0       94.0   228867.140      500.803370   \n",
       "France                 389.0       87.0   209024.050      537.336889   \n",
       "Spain                   90.0       30.0    61577.110      684.190111   \n",
       "Belgium                 98.0       25.0    41196.340      420.370816   \n",
       "Switzerland             51.0       21.0    56443.950     1106.744118   \n",
       "Portugal                57.0       19.0    33439.890      586.664737   \n",
       "Italy                   38.0       14.0    17483.240      460.085263   \n",
       "Austria                 17.0       11.0    10198.680      599.922353   \n",
       "Norway                  36.0       10.0    36165.440     1004.595556   \n",
       "\n",
       "                distinct_products  total_quantity  \\\n",
       "country                                             \n",
       "United Kingdom             3833.0       4269472.0   \n",
       "Germany                    1695.0        119263.0   \n",
       "France                     1543.0        111472.0   \n",
       "Spain                      1104.0         27951.0   \n",
       "Belgium                     784.0         23237.0   \n",
       "Switzerland                 954.0         30083.0   \n",
       "Portugal                    693.0         16122.0   \n",
       "Italy                       476.0          8112.0   \n",
       "Austria                     306.0          4881.0   \n",
       "Norway                      595.0         19338.0   \n",
       "\n",
       "                average_products_per_transaction  average_quantity  \\\n",
       "country                                                              \n",
       "United Kingdom                         21.283260        256.440147   \n",
       "Germany                                19.785558        260.969365   \n",
       "France                                 21.444730        286.560411   \n",
       "Spain                                  27.611111        310.566667   \n",
       "Belgium                                20.724490        237.112245   \n",
       "Switzerland                            36.117647        589.862745   \n",
       "Portugal                               25.649123        282.842105   \n",
       "Italy                                  19.947368        213.473684   \n",
       "Austria                                23.411765        287.117647   \n",
       "Norway                                 29.777778        537.166667   \n",
       "\n",
       "                customer_percent  \n",
       "country                           \n",
       "United Kingdom         91.186047  \n",
       "Germany                 2.186047  \n",
       "France                  2.023256  \n",
       "Spain                   0.697674  \n",
       "Belgium                 0.581395  \n",
       "Switzerland             0.488372  \n",
       "Portugal                0.441860  \n",
       "Italy                   0.325581  \n",
       "Austria                 0.255814  \n",
       "Norway                  0.232558  "
      ]
     },
     "execution_count": 10,
     "metadata": {},
     "output_type": "execute_result"
    }
   ],
   "source": [
    "top_countries = df_clean.groupby('country').apply(country_agg).sort_values('customers', ascending=False)\n",
    "top_countries['customer_percent'] = top_countries['customers']/top_countries['customers'].sum()*100\n",
    "top_countries.head(10)"
   ]
  },
  {
   "cell_type": "markdown",
   "id": "cc2e2dc6",
   "metadata": {},
   "source": [
    "## Análises de clientes"
   ]
  },
  {
   "cell_type": "markdown",
   "id": "066941da",
   "metadata": {},
   "source": [
    "### Função para agregação dos dados por clientes e criação de estatísticas"
   ]
  },
  {
   "cell_type": "code",
   "execution_count": 11,
   "id": "46fde160",
   "metadata": {},
   "outputs": [],
   "source": [
    "def custom_agg(x):\n",
    "    names = {\n",
    "        'transactions': x['transaction_id'].nunique()\n",
    "        , 'countries': x['country'].nunique()\n",
    "        , 'total_spent': x['total_value'].sum()\n",
    "        , 'average_ticket': x['total_value'].sum()/x['transaction_id'].nunique()\n",
    "        , 'distinct_products': x['product'].nunique()\n",
    "        , 'total_quantity': x['quantity'].sum()\n",
    "        , 'average_products_per_transaction': x['product'].count()/x['transaction_id'].nunique()\n",
    "        , 'average_quantity': x['quantity'].sum()/x['transaction_id'].nunique()\n",
    "        , 'recency': (x['current_date'].max() - x['date'].max())/np.timedelta64(1,'D')  \n",
    "        , 'time': (x['date'].max() - x['date'].min())/np.timedelta64(1,'D')  \n",
    "    }\n",
    "    return pd.Series(names, index=['transactions'\n",
    "                                  , 'countries'\n",
    "                                  , 'total_spent'\n",
    "                                  , 'average_ticket'\n",
    "                                  , 'distinct_products'\n",
    "                                  , 'total_quantity'\n",
    "                                  , 'average_products_per_transaction'\n",
    "                                  , 'average_quantity'\n",
    "                                  , 'recency'\n",
    "                                  , 'time'])"
   ]
  },
  {
   "cell_type": "markdown",
   "id": "19059d15",
   "metadata": {},
   "source": [
    "### Dataset com os indicadores agregados por clientes"
   ]
  },
  {
   "cell_type": "code",
   "execution_count": 12,
   "id": "d7758cc5",
   "metadata": {
    "scrolled": false
   },
   "outputs": [],
   "source": [
    "customers = df_clean.groupby('customer_id').apply(custom_agg).reset_index()"
   ]
  },
  {
   "cell_type": "markdown",
   "id": "3f33626e",
   "metadata": {},
   "source": [
    "### Criação do tempo médio entre pedidos\n",
    "- No caso do cliente ter 1 pedido, colocamos 9999 (para penalizar essa variável)\n",
    "- Do contrário, o tempo médio entre pedidos é o tempo entre o primeiro e o útimo pedido dividido pelo total de transações menos 1"
   ]
  },
  {
   "cell_type": "code",
   "execution_count": 13,
   "id": "8bad2819",
   "metadata": {},
   "outputs": [],
   "source": [
    "customers['average_time_between_orders'] = np.where(customers['time']<0.001, 9999, customers['time']/(customers['transactions']-1))"
   ]
  },
  {
   "cell_type": "code",
   "execution_count": 14,
   "id": "1502c42f",
   "metadata": {},
   "outputs": [
    {
     "data": {
      "text/html": [
       "<div>\n",
       "<style scoped>\n",
       "    .dataframe tbody tr th:only-of-type {\n",
       "        vertical-align: middle;\n",
       "    }\n",
       "\n",
       "    .dataframe tbody tr th {\n",
       "        vertical-align: top;\n",
       "    }\n",
       "\n",
       "    .dataframe thead th {\n",
       "        text-align: right;\n",
       "    }\n",
       "</style>\n",
       "<table border=\"1\" class=\"dataframe\">\n",
       "  <thead>\n",
       "    <tr style=\"text-align: right;\">\n",
       "      <th></th>\n",
       "      <th>customer_id</th>\n",
       "      <th>transactions</th>\n",
       "      <th>countries</th>\n",
       "      <th>total_spent</th>\n",
       "      <th>average_ticket</th>\n",
       "      <th>distinct_products</th>\n",
       "      <th>total_quantity</th>\n",
       "      <th>average_products_per_transaction</th>\n",
       "      <th>average_quantity</th>\n",
       "      <th>recency</th>\n",
       "      <th>time</th>\n",
       "      <th>average_time_between_orders</th>\n",
       "    </tr>\n",
       "  </thead>\n",
       "  <tbody>\n",
       "    <tr>\n",
       "      <th>0</th>\n",
       "      <td>12346.0</td>\n",
       "      <td>1.0</td>\n",
       "      <td>1.0</td>\n",
       "      <td>77183.60</td>\n",
       "      <td>77183.600000</td>\n",
       "      <td>1.0</td>\n",
       "      <td>74215.0</td>\n",
       "      <td>1.000</td>\n",
       "      <td>74215.000000</td>\n",
       "      <td>582.906877</td>\n",
       "      <td>0.0</td>\n",
       "      <td>9999.000000</td>\n",
       "    </tr>\n",
       "    <tr>\n",
       "      <th>1</th>\n",
       "      <td>12347.0</td>\n",
       "      <td>7.0</td>\n",
       "      <td>1.0</td>\n",
       "      <td>4310.00</td>\n",
       "      <td>615.714286</td>\n",
       "      <td>103.0</td>\n",
       "      <td>2458.0</td>\n",
       "      <td>26.000</td>\n",
       "      <td>351.142857</td>\n",
       "      <td>259.906877</td>\n",
       "      <td>365.0</td>\n",
       "      <td>60.833333</td>\n",
       "    </tr>\n",
       "    <tr>\n",
       "      <th>2</th>\n",
       "      <td>12349.0</td>\n",
       "      <td>1.0</td>\n",
       "      <td>1.0</td>\n",
       "      <td>1757.55</td>\n",
       "      <td>1757.550000</td>\n",
       "      <td>73.0</td>\n",
       "      <td>631.0</td>\n",
       "      <td>73.000</td>\n",
       "      <td>631.000000</td>\n",
       "      <td>275.906877</td>\n",
       "      <td>0.0</td>\n",
       "      <td>9999.000000</td>\n",
       "    </tr>\n",
       "    <tr>\n",
       "      <th>3</th>\n",
       "      <td>12350.0</td>\n",
       "      <td>1.0</td>\n",
       "      <td>1.0</td>\n",
       "      <td>334.40</td>\n",
       "      <td>334.400000</td>\n",
       "      <td>17.0</td>\n",
       "      <td>197.0</td>\n",
       "      <td>17.000</td>\n",
       "      <td>197.000000</td>\n",
       "      <td>567.906877</td>\n",
       "      <td>0.0</td>\n",
       "      <td>9999.000000</td>\n",
       "    </tr>\n",
       "    <tr>\n",
       "      <th>4</th>\n",
       "      <td>12352.0</td>\n",
       "      <td>8.0</td>\n",
       "      <td>1.0</td>\n",
       "      <td>2506.04</td>\n",
       "      <td>313.255000</td>\n",
       "      <td>59.0</td>\n",
       "      <td>536.0</td>\n",
       "      <td>10.625</td>\n",
       "      <td>67.000000</td>\n",
       "      <td>293.906877</td>\n",
       "      <td>260.0</td>\n",
       "      <td>37.142857</td>\n",
       "    </tr>\n",
       "  </tbody>\n",
       "</table>\n",
       "</div>"
      ],
      "text/plain": [
       "   customer_id  transactions  countries  total_spent  average_ticket  \\\n",
       "0      12346.0           1.0        1.0     77183.60    77183.600000   \n",
       "1      12347.0           7.0        1.0      4310.00      615.714286   \n",
       "2      12349.0           1.0        1.0      1757.55     1757.550000   \n",
       "3      12350.0           1.0        1.0       334.40      334.400000   \n",
       "4      12352.0           8.0        1.0      2506.04      313.255000   \n",
       "\n",
       "   distinct_products  total_quantity  average_products_per_transaction  \\\n",
       "0                1.0         74215.0                             1.000   \n",
       "1              103.0          2458.0                            26.000   \n",
       "2               73.0           631.0                            73.000   \n",
       "3               17.0           197.0                            17.000   \n",
       "4               59.0           536.0                            10.625   \n",
       "\n",
       "   average_quantity     recency   time  average_time_between_orders  \n",
       "0      74215.000000  582.906877    0.0                  9999.000000  \n",
       "1        351.142857  259.906877  365.0                    60.833333  \n",
       "2        631.000000  275.906877    0.0                  9999.000000  \n",
       "3        197.000000  567.906877    0.0                  9999.000000  \n",
       "4         67.000000  293.906877  260.0                    37.142857  "
      ]
     },
     "execution_count": 14,
     "metadata": {},
     "output_type": "execute_result"
    }
   ],
   "source": [
    "customers.head()"
   ]
  },
  {
   "cell_type": "markdown",
   "id": "d91e5843",
   "metadata": {},
   "source": [
    "### Somente 3 Clientes possuem compras em mais de 1 País"
   ]
  },
  {
   "cell_type": "code",
   "execution_count": 15,
   "id": "706aa95e",
   "metadata": {},
   "outputs": [
    {
     "data": {
      "text/plain": [
       "3"
      ]
     },
     "execution_count": 15,
     "metadata": {},
     "output_type": "execute_result"
    }
   ],
   "source": [
    "customers.loc[customers['countries']>1, 'customer_id'].nunique()"
   ]
  },
  {
   "cell_type": "markdown",
   "id": "36eae6c2",
   "metadata": {},
   "source": [
    "### Distribuição de clientes de acordo com a quantidade de transações\n",
    "- A maioria dos clientes possuem poucas transações"
   ]
  },
  {
   "cell_type": "code",
   "execution_count": 16,
   "id": "2b83f9c9",
   "metadata": {},
   "outputs": [
    {
     "data": {
      "image/png": "[encoded data removed]",
      "text/plain": [
       "<Figure size 1080x720 with 1 Axes>"
      ]
     },
     "metadata": {
      "needs_background": "light"
     },
     "output_type": "display_data"
    }
   ],
   "source": [
    "dist_transactions = customers.groupby('transactions').nunique()[['customer_id']].reset_index()\n",
    "plt.figure(figsize=(15,10))\n",
    "plt.bar(dist_transactions['transactions'], dist_transactions['customer_id'])\n",
    "plt.xlabel('Transações')\n",
    "plt.ylabel('Clientes')\n",
    "plt.show()"
   ]
  },
  {
   "cell_type": "markdown",
   "id": "9986a6c0",
   "metadata": {},
   "source": [
    "### Fazendo um \"zoom\" na distribuição, cortando clientes com número de transações muito elevado"
   ]
  },
  {
   "cell_type": "code",
   "execution_count": 17,
   "id": "d28d9ece",
   "metadata": {},
   "outputs": [
    {
     "data": {
      "image/png": "[encoded data removed]",
      "text/plain": [
       "<Figure size 1080x720 with 1 Axes>"
      ]
     },
     "metadata": {
      "needs_background": "light"
     },
     "output_type": "display_data"
    }
   ],
   "source": [
    "dist_transactions = customers.groupby('transactions').nunique()[['customer_id']].reset_index()\n",
    "plt.figure(figsize=(15,10))\n",
    "plt.bar(dist_transactions.loc[dist_transactions['transactions']<=50, 'transactions'], dist_transactions.loc[dist_transactions['transactions']<=50, 'customer_id'])\n",
    "plt.xlabel('Transações')\n",
    "plt.ylabel('Clientes')\n",
    "plt.show()"
   ]
  },
  {
   "cell_type": "markdown",
   "id": "550788c3",
   "metadata": {},
   "source": [
    "### Criação de faixas mais agregadas"
   ]
  },
  {
   "cell_type": "code",
   "execution_count": 18,
   "id": "e2a7c899",
   "metadata": {},
   "outputs": [],
   "source": [
    "col = 'transactions'\n",
    "conditions = [customers[col] == 1\n",
    "              , (customers[col] > 1) & (customers[col] <= 5)\n",
    "              , (customers[col] > 5) & (customers[col] <= 10)\n",
    "              , customers[col] > 10]\n",
    "choices = ['1. Unique Order'\n",
    "           , '2. Between 2-5 Orders'\n",
    "           , '3. Between 6-10 Orders' \n",
    "           , '4. More than 10 Orders' ]\n",
    "    \n",
    "customers['transaction_frequency'] = np.select(conditions, choices, default=np.nan)"
   ]
  },
  {
   "cell_type": "code",
   "execution_count": 19,
   "id": "6caae932",
   "metadata": {},
   "outputs": [],
   "source": [
    "def customers_agg(x):\n",
    "    names = {\n",
    "        'customers': x['customer_id'].nunique()\n",
    "        , 'average_distinct_products': x['distinct_products'].sum()/x['transactions'].sum()\n",
    "        , 'total_quantity': x['total_quantity'].sum()\n",
    "        , 'average_quantity': x['total_quantity'].sum()/x['transactions'].sum()\n",
    "        , 'total_spent': x['total_spent'].sum()\n",
    "        , 'average_ticket': x['total_spent'].sum()/x['transactions'].sum()\n",
    "        , 'average_time_between_orders': x['time'].sum()/(x['transactions'].sum()-x['customer_id'].nunique())\n",
    "        , 'transactions_per_customer': x['transactions'].sum()/x['customer_id'].nunique()\n",
    "        , 'average_recency': x['recency'].sum()/x['customer_id'].nunique()\n",
    "    }\n",
    "    return pd.Series(names, index=['customers'\n",
    "                                  , 'average_distinct_products'\n",
    "                                  , 'total_quantity'\n",
    "                                  , 'average_quantity'\n",
    "                                  , 'total_spent'\n",
    "                                  , 'average_ticket'\n",
    "                                  , 'average_time_between_orders'\n",
    "                                  , 'transactions_per_customer'\n",
    "                                  , 'average_recency'\n",
    "                                  ])"
   ]
  },
  {
   "cell_type": "markdown",
   "id": "a24a695d",
   "metadata": {},
   "source": [
    "### Alavancas de engajamento e valor:\n",
    "- recency: recência ou quanto tempo faz desde a última compra\n",
    "- transactions: número total de pedidos que o cliente já fez\n",
    "- averag_ticket: gasto médio por pedido\n",
    "- average_time_between_orders: frequência de compra ou tempo médio em dias, entre os pedidos\n",
    "\n",
    "Clientes mais engajados, com mais pedidos e menor tempo entre pedidos também possuem maior ticket médio"
   ]
  },
  {
   "cell_type": "code",
   "execution_count": 20,
   "id": "306df7d0",
   "metadata": {
    "scrolled": true
   },
   "outputs": [
    {
     "name": "stderr",
     "output_type": "stream",
     "text": [
      "/tmp/ipykernel_8667/640007857.py:9: RuntimeWarning: invalid value encountered in double_scalars\n",
      "  , 'average_time_between_orders': x['time'].sum()/(x['transactions'].sum()-x['customer_id'].nunique())\n"
     ]
    },
    {
     "data": {
      "text/html": [
       "<div>\n",
       "<style scoped>\n",
       "    .dataframe tbody tr th:only-of-type {\n",
       "        vertical-align: middle;\n",
       "    }\n",
       "\n",
       "    .dataframe tbody tr th {\n",
       "        vertical-align: top;\n",
       "    }\n",
       "\n",
       "    .dataframe thead th {\n",
       "        text-align: right;\n",
       "    }\n",
       "</style>\n",
       "<table border=\"1\" class=\"dataframe\">\n",
       "  <thead>\n",
       "    <tr style=\"text-align: right;\">\n",
       "      <th></th>\n",
       "      <th>customers</th>\n",
       "      <th>average_distinct_products</th>\n",
       "      <th>total_quantity</th>\n",
       "      <th>average_quantity</th>\n",
       "      <th>total_spent</th>\n",
       "      <th>average_ticket</th>\n",
       "      <th>average_time_between_orders</th>\n",
       "      <th>transactions_per_customer</th>\n",
       "      <th>average_recency</th>\n",
       "    </tr>\n",
       "    <tr>\n",
       "      <th>transaction_frequency</th>\n",
       "      <th></th>\n",
       "      <th></th>\n",
       "      <th></th>\n",
       "      <th></th>\n",
       "      <th></th>\n",
       "      <th></th>\n",
       "      <th></th>\n",
       "      <th></th>\n",
       "      <th></th>\n",
       "    </tr>\n",
       "  </thead>\n",
       "  <tbody>\n",
       "    <tr>\n",
       "      <th>1. Unique Order</th>\n",
       "      <td>1481.0</td>\n",
       "      <td>21.657664</td>\n",
       "      <td>413018.0</td>\n",
       "      <td>278.877785</td>\n",
       "      <td>607958.561</td>\n",
       "      <td>410.505443</td>\n",
       "      <td>NaN</td>\n",
       "      <td>1.000000</td>\n",
       "      <td>414.518626</td>\n",
       "    </tr>\n",
       "    <tr>\n",
       "      <th>2. Between 2-5 Orders</th>\n",
       "      <td>1952.0</td>\n",
       "      <td>18.615424</td>\n",
       "      <td>1352608.0</td>\n",
       "      <td>229.255593</td>\n",
       "      <td>2340022.773</td>\n",
       "      <td>396.614029</td>\n",
       "      <td>78.445289</td>\n",
       "      <td>3.022541</td>\n",
       "      <td>330.766508</td>\n",
       "    </tr>\n",
       "    <tr>\n",
       "      <th>3. Between 6-10 Orders</th>\n",
       "      <td>529.0</td>\n",
       "      <td>15.189954</td>\n",
       "      <td>899451.0</td>\n",
       "      <td>229.334778</td>\n",
       "      <td>1486894.540</td>\n",
       "      <td>379.116405</td>\n",
       "      <td>42.015326</td>\n",
       "      <td>7.413989</td>\n",
       "      <td>289.154514</td>\n",
       "    </tr>\n",
       "    <tr>\n",
       "      <th>4. More than 10 Orders</th>\n",
       "      <td>335.0</td>\n",
       "      <td>9.006706</td>\n",
       "      <td>2337370.0</td>\n",
       "      <td>340.724490</td>\n",
       "      <td>4129650.520</td>\n",
       "      <td>601.989872</td>\n",
       "      <td>16.796169</td>\n",
       "      <td>20.477612</td>\n",
       "      <td>273.488966</td>\n",
       "    </tr>\n",
       "  </tbody>\n",
       "</table>\n",
       "</div>"
      ],
      "text/plain": [
       "                        customers  average_distinct_products  total_quantity  \\\n",
       "transaction_frequency                                                          \n",
       "1. Unique Order            1481.0                  21.657664        413018.0   \n",
       "2. Between 2-5 Orders      1952.0                  18.615424       1352608.0   \n",
       "3. Between 6-10 Orders      529.0                  15.189954        899451.0   \n",
       "4. More than 10 Orders      335.0                   9.006706       2337370.0   \n",
       "\n",
       "                        average_quantity  total_spent  average_ticket  \\\n",
       "transaction_frequency                                                   \n",
       "1. Unique Order               278.877785   607958.561      410.505443   \n",
       "2. Between 2-5 Orders         229.255593  2340022.773      396.614029   \n",
       "3. Between 6-10 Orders        229.334778  1486894.540      379.116405   \n",
       "4. More than 10 Orders        340.724490  4129650.520      601.989872   \n",
       "\n",
       "                        average_time_between_orders  \\\n",
       "transaction_frequency                                 \n",
       "1. Unique Order                                 NaN   \n",
       "2. Between 2-5 Orders                     78.445289   \n",
       "3. Between 6-10 Orders                    42.015326   \n",
       "4. More than 10 Orders                    16.796169   \n",
       "\n",
       "                        transactions_per_customer  average_recency  \n",
       "transaction_frequency                                               \n",
       "1. Unique Order                          1.000000       414.518626  \n",
       "2. Between 2-5 Orders                    3.022541       330.766508  \n",
       "3. Between 6-10 Orders                   7.413989       289.154514  \n",
       "4. More than 10 Orders                  20.477612       273.488966  "
      ]
     },
     "execution_count": 20,
     "metadata": {},
     "output_type": "execute_result"
    }
   ],
   "source": [
    "customers.groupby('transaction_frequency').apply(customers_agg)"
   ]
  },
  {
   "cell_type": "markdown",
   "id": "e76884ab",
   "metadata": {},
   "source": [
    "### Distribuição do Ticket Médio"
   ]
  },
  {
   "cell_type": "code",
   "execution_count": 21,
   "id": "9a2c021d",
   "metadata": {},
   "outputs": [
    {
     "data": {
      "image/png": "[encoded data removed]",
      "text/plain": [
       "<Figure size 1080x720 with 1 Axes>"
      ]
     },
     "metadata": {
      "needs_background": "light"
     },
     "output_type": "display_data"
    }
   ],
   "source": [
    "ol = customers.quantile(.99)['average_ticket']\n",
    "media = round(customers[['average_ticket']].mean().values[0],1)\n",
    "desvio = round(customers[['average_ticket']].std().values[0],)\n",
    "plt.figure(figsize=(15,10))\n",
    "plt.hist(customers.loc[customers['average_ticket']<=ol, 'average_ticket'], 100, density=True)\n",
    "plt.xlabel('Ticket Médio')\n",
    "plt.ylabel('Probabilidade')\n",
    "plt.text(600, .0025, f'$\\mu={media},\\ \\sigma={desvio}$', fontsize=16)\n",
    "plt.show()"
   ]
  },
  {
   "cell_type": "markdown",
   "id": "445c6ba9",
   "metadata": {},
   "source": [
    "### Distribuição da Recência"
   ]
  },
  {
   "cell_type": "code",
   "execution_count": 22,
   "id": "08204f99",
   "metadata": {},
   "outputs": [
    {
     "data": {
      "image/png": "[encoded data removed]",
      "text/plain": [
       "<Figure size 1080x720 with 1 Axes>"
      ]
     },
     "metadata": {
      "needs_background": "light"
     },
     "output_type": "display_data"
    }
   ],
   "source": [
    "ol = customers.quantile(.99)['recency']\n",
    "media = round(customers.loc[customers['recency']<=ol, ['recency']].mean().values[0],1)\n",
    "desvio = round(customers.loc[customers['recency']<=ol, ['recency']].std().values[0],)\n",
    "plt.figure(figsize=(15,10))\n",
    "plt.hist(customers.loc[customers['recency']<=ol, 'recency'], 100, density=True)\n",
    "plt.xlabel('Recência')\n",
    "plt.ylabel('Probabilidade')\n",
    "plt.text(350, .015, f'$\\mu={media},\\ \\sigma={desvio}$', fontsize=16)\n",
    "plt.show()"
   ]
  },
  {
   "cell_type": "markdown",
   "id": "57d75cd4",
   "metadata": {},
   "source": [
    "### Distribuição do tempo médio entre pedidos"
   ]
  },
  {
   "cell_type": "code",
   "execution_count": 23,
   "id": "31f12e88",
   "metadata": {},
   "outputs": [
    {
     "data": {
      "image/png": "[encoded data removed]",
      "text/plain": [
       "<Figure size 1080x720 with 1 Axes>"
      ]
     },
     "metadata": {
      "needs_background": "light"
     },
     "output_type": "display_data"
    }
   ],
   "source": [
    "media = round(customers.loc[customers['average_time_between_orders']<9999, ['average_time_between_orders']].mean().values[0],1)\n",
    "desvio = round(customers.loc[customers['average_time_between_orders']<9999, ['average_time_between_orders']].std().values[0],)\n",
    "plt.figure(figsize=(15,10))\n",
    "plt.hist(customers.loc[customers['average_time_between_orders']<9999, 'average_time_between_orders'], 100, density=True)\n",
    "plt.xlabel('Tempo médio entre pedidos')\n",
    "plt.ylabel('Probabilidade')\n",
    "plt.text(150, .01, f'$\\mu={media},\\ \\sigma={desvio}$', fontsize=16)\n",
    "plt.show()"
   ]
  },
  {
   "cell_type": "markdown",
   "id": "5acb2aa1",
   "metadata": {},
   "source": [
    "# Segmentação de Clientes usando RFV\n",
    "\n",
    "## Recência, Frequência, Valor, +Quantidade de Pedidos\n",
    "\n",
    "### Técnicas utilizadas:\n",
    "**K-Means Clustering:** Método de aprendizado não supervisionado\n",
    "O método de clusterização K Means busca alocar as amostras em grupos (clusters) mais homogêneos possíveis e heterogêneos entre si.\n",
    "Ele funciona assim:\n",
    "- Primeiro é feita a definição do número de clusters que queremos segmentar nossos dados\n",
    "- Depois são defindos os centróides (podem ser pontos aleatórios no espaço dos dados, ou pontos de amostras aleatórias, ou pontos pré-definidos). Os centróides são os pontos de referência com os quais vamos calcular as distâncias de cada amostra até eles\n",
    "- As amostras são associadas aos centróides mais próximos e novos centróides são definidos com base nas amostras que ficaram num mesmo grupo\n",
    "- O algoritmo vai iterando até que nenhuma amostra seja realocada, ou até um número pré-definido de iterações"
   ]
  },
  {
   "attachments": {
    "k-means-iteration.gif": {
     "image/gif": "[encoded data removed]"
    }
   },
   "cell_type": "markdown",
   "id": "1312d374",
   "metadata": {},
   "source": [
    "fonte: https://www.nickmccullum.com/images/python-machine-learning/introduction-k-means-clustering/k-means-iteration.gif\n",
    "![k-means-iteration.gif](attachment:k-means-iteration.gif)"
   ]
  },
  {
   "cell_type": "markdown",
   "id": "4b5bc569",
   "metadata": {},
   "source": [
    "### Vamos usar o módulo scikit-learn para aplicar este algoritmo\n",
    "https://scikit-learn.org/stable/"
   ]
  },
  {
   "cell_type": "code",
   "execution_count": 24,
   "id": "7500bac6",
   "metadata": {},
   "outputs": [],
   "source": [
    "from sklearn.cluster import KMeans"
   ]
  },
  {
   "cell_type": "markdown",
   "id": "43e23652",
   "metadata": {},
   "source": [
    "### Primeiramente vamos aplicar o \"método do cotovelo\" para determinar o número de clusters para cada variável"
   ]
  },
  {
   "cell_type": "code",
   "execution_count": 25,
   "id": "7511f3de",
   "metadata": {
    "scrolled": false
   },
   "outputs": [
    {
     "data": {
      "image/png": "[encoded data removed]",
      "text/plain": [
       "<Figure size 1080x504 with 1 Axes>"
      ]
     },
     "metadata": {
      "needs_background": "light"
     },
     "output_type": "display_data"
    },
    {
     "data": {
      "image/png": "[encoded data removed]",
      "text/plain": [
       "<Figure size 1080x504 with 1 Axes>"
      ]
     },
     "metadata": {
      "needs_background": "light"
     },
     "output_type": "display_data"
    },
    {
     "data": {
      "image/png": "[encoded data removed]",
      "text/plain": [
       "<Figure size 1080x504 with 1 Axes>"
      ]
     },
     "metadata": {
      "needs_background": "light"
     },
     "output_type": "display_data"
    },
    {
     "data": {
      "image/png": "[encoded data removed]",
      "text/plain": [
       "<Figure size 1080x504 with 1 Axes>"
      ]
     },
     "metadata": {
      "needs_background": "light"
     },
     "output_type": "display_data"
    }
   ],
   "source": [
    "for cols in ['recency', 'transactions', 'average_ticket', 'average_time_between_orders']:\n",
    "    sse={}\n",
    "    clus = customers[[cols]].copy()\n",
    "    for k in range(1, 10):\n",
    "        kmeans = KMeans(n_clusters=k, max_iter=1000).fit(clus)\n",
    "        clus[\"clusters\"] = kmeans.labels_\n",
    "        sse[k] = kmeans.inertia_ \n",
    "    plt.figure(figsize=(15,7))\n",
    "    plt.plot(list(sse.keys()), list(sse.values()), linewidth=3,linestyle='--', marker='o')\n",
    "    plt.xlabel(\"Number of cluster\")\n",
    "    plt.title(cols)\n",
    "    plt.show()"
   ]
  },
  {
   "cell_type": "markdown",
   "id": "b3cdfaae",
   "metadata": {},
   "source": [
    "### Criando uma função para ordernar o número dos clusters de acordo com o sentido de cada variável\n",
    "Exemplos:\n",
    "- ticket médio, quanto maior melhor, então os clientes de maior ticket ficam no cluster de maior número e os de menor ticket ficam no grupo zero\n",
    "- tempo entre pedidos, quanto menor melhor, então os clientes com maior tempo médio ficam no grupo zero e o de menor tempo ficam no grupo de maior número"
   ]
  },
  {
   "cell_type": "code",
   "execution_count": 26,
   "id": "63a20b67",
   "metadata": {},
   "outputs": [],
   "source": [
    "def order_cluster(cluster_field_name, target_field_name, df, ascending):\n",
    "    \n",
    "    new_cluster_field_name = 'new_' + cluster_field_name\n",
    "    df_new = df.groupby(cluster_field_name)[target_field_name].mean().reset_index()\n",
    "    df_new = df_new.sort_values(by=target_field_name,ascending=ascending).reset_index(drop=True)\n",
    "    df_new['index'] = df_new.index\n",
    "    df_final = pd.merge(df,df_new[[cluster_field_name,'index']], on=cluster_field_name)\n",
    "    df_final = df_final.drop([cluster_field_name],axis=1)\n",
    "    df_final = df_final.rename(columns={\"index\":cluster_field_name})\n",
    "    \n",
    "    return df_final"
   ]
  },
  {
   "cell_type": "markdown",
   "id": "9184801f",
   "metadata": {},
   "source": [
    "### Dicionários com número de clusters por variável e sentido para ordenação"
   ]
  },
  {
   "cell_type": "code",
   "execution_count": 27,
   "id": "5e8a0b6d",
   "metadata": {},
   "outputs": [],
   "source": [
    "dict_clusters = {'recency':3, 'transactions':4, 'average_ticket':2, 'average_time_between_orders':2}\n",
    "dict_sort = {'recency':False, 'transactions':True, 'average_ticket':True, 'average_time_between_orders':False}"
   ]
  },
  {
   "cell_type": "markdown",
   "id": "946802c8",
   "metadata": {},
   "source": [
    "### Aplicando o K-Means em cada variável"
   ]
  },
  {
   "cell_type": "code",
   "execution_count": 28,
   "id": "d6ea859e",
   "metadata": {},
   "outputs": [],
   "source": [
    "for m in dict_clusters.keys():\n",
    "    kmeans = KMeans(n_clusters=dict_clusters[m])\n",
    "    kmeans.fit(customers[[m]])\n",
    "\n",
    "    customers[m+'_cluster'] = kmeans.predict(customers[[m]])\n",
    "    \n",
    "    customers = order_cluster(m+'_cluster', m, customers, dict_sort[m])"
   ]
  },
  {
   "cell_type": "markdown",
   "id": "63e4de98",
   "metadata": {},
   "source": [
    "### Criando o score geral de cada cliente"
   ]
  },
  {
   "cell_type": "code",
   "execution_count": 29,
   "id": "17c88ac4",
   "metadata": {},
   "outputs": [],
   "source": [
    "customers['OverallScore'] = customers['recency_cluster'] + \\\n",
    "                              customers['transactions_cluster'] + \\\n",
    "                              customers['average_ticket_cluster'] +\\\n",
    "                              customers['average_time_between_orders_cluster']"
   ]
  },
  {
   "cell_type": "markdown",
   "id": "153ed515",
   "metadata": {},
   "source": [
    "### Base com todas variáveis por cliente, classificação de cluster de cada variável e scoragem final"
   ]
  },
  {
   "cell_type": "code",
   "execution_count": 30,
   "id": "7d88a577",
   "metadata": {},
   "outputs": [
    {
     "data": {
      "text/html": [
       "<div>\n",
       "<style scoped>\n",
       "    .dataframe tbody tr th:only-of-type {\n",
       "        vertical-align: middle;\n",
       "    }\n",
       "\n",
       "    .dataframe tbody tr th {\n",
       "        vertical-align: top;\n",
       "    }\n",
       "\n",
       "    .dataframe thead th {\n",
       "        text-align: right;\n",
       "    }\n",
       "</style>\n",
       "<table border=\"1\" class=\"dataframe\">\n",
       "  <thead>\n",
       "    <tr style=\"text-align: right;\">\n",
       "      <th></th>\n",
       "      <th>customer_id</th>\n",
       "      <th>transactions</th>\n",
       "      <th>countries</th>\n",
       "      <th>total_spent</th>\n",
       "      <th>average_ticket</th>\n",
       "      <th>distinct_products</th>\n",
       "      <th>total_quantity</th>\n",
       "      <th>average_products_per_transaction</th>\n",
       "      <th>average_quantity</th>\n",
       "      <th>recency</th>\n",
       "      <th>time</th>\n",
       "      <th>average_time_between_orders</th>\n",
       "      <th>transaction_frequency</th>\n",
       "      <th>recency_cluster</th>\n",
       "      <th>transactions_cluster</th>\n",
       "      <th>average_ticket_cluster</th>\n",
       "      <th>average_time_between_orders_cluster</th>\n",
       "      <th>OverallScore</th>\n",
       "    </tr>\n",
       "  </thead>\n",
       "  <tbody>\n",
       "    <tr>\n",
       "      <th>0</th>\n",
       "      <td>12346.0</td>\n",
       "      <td>1.0</td>\n",
       "      <td>1.0</td>\n",
       "      <td>77183.60</td>\n",
       "      <td>77183.600000</td>\n",
       "      <td>1.0</td>\n",
       "      <td>74215.0</td>\n",
       "      <td>1.000000</td>\n",
       "      <td>74215.000000</td>\n",
       "      <td>582.906877</td>\n",
       "      <td>0.0</td>\n",
       "      <td>9999.000000</td>\n",
       "      <td>1. Unique Order</td>\n",
       "      <td>0</td>\n",
       "      <td>0</td>\n",
       "      <td>1</td>\n",
       "      <td>0</td>\n",
       "      <td>1</td>\n",
       "    </tr>\n",
       "    <tr>\n",
       "      <th>1</th>\n",
       "      <td>12350.0</td>\n",
       "      <td>1.0</td>\n",
       "      <td>1.0</td>\n",
       "      <td>334.40</td>\n",
       "      <td>334.400000</td>\n",
       "      <td>17.0</td>\n",
       "      <td>197.0</td>\n",
       "      <td>17.000000</td>\n",
       "      <td>197.000000</td>\n",
       "      <td>567.906877</td>\n",
       "      <td>0.0</td>\n",
       "      <td>9999.000000</td>\n",
       "      <td>1. Unique Order</td>\n",
       "      <td>0</td>\n",
       "      <td>0</td>\n",
       "      <td>0</td>\n",
       "      <td>0</td>\n",
       "      <td>0</td>\n",
       "    </tr>\n",
       "    <tr>\n",
       "      <th>2</th>\n",
       "      <td>12354.0</td>\n",
       "      <td>1.0</td>\n",
       "      <td>1.0</td>\n",
       "      <td>1079.40</td>\n",
       "      <td>1079.400000</td>\n",
       "      <td>58.0</td>\n",
       "      <td>530.0</td>\n",
       "      <td>58.000000</td>\n",
       "      <td>530.000000</td>\n",
       "      <td>489.906877</td>\n",
       "      <td>0.0</td>\n",
       "      <td>9999.000000</td>\n",
       "      <td>1. Unique Order</td>\n",
       "      <td>0</td>\n",
       "      <td>0</td>\n",
       "      <td>0</td>\n",
       "      <td>0</td>\n",
       "      <td>0</td>\n",
       "    </tr>\n",
       "    <tr>\n",
       "      <th>3</th>\n",
       "      <td>12361.0</td>\n",
       "      <td>1.0</td>\n",
       "      <td>1.0</td>\n",
       "      <td>189.90</td>\n",
       "      <td>189.900000</td>\n",
       "      <td>10.0</td>\n",
       "      <td>91.0</td>\n",
       "      <td>10.000000</td>\n",
       "      <td>91.000000</td>\n",
       "      <td>544.906877</td>\n",
       "      <td>0.0</td>\n",
       "      <td>9999.000000</td>\n",
       "      <td>1. Unique Order</td>\n",
       "      <td>0</td>\n",
       "      <td>0</td>\n",
       "      <td>0</td>\n",
       "      <td>0</td>\n",
       "      <td>0</td>\n",
       "    </tr>\n",
       "    <tr>\n",
       "      <th>4</th>\n",
       "      <td>12370.0</td>\n",
       "      <td>1.0</td>\n",
       "      <td>1.0</td>\n",
       "      <td>277.20</td>\n",
       "      <td>277.200000</td>\n",
       "      <td>8.0</td>\n",
       "      <td>51.0</td>\n",
       "      <td>8.000000</td>\n",
       "      <td>51.000000</td>\n",
       "      <td>614.906877</td>\n",
       "      <td>0.0</td>\n",
       "      <td>9999.000000</td>\n",
       "      <td>1. Unique Order</td>\n",
       "      <td>0</td>\n",
       "      <td>0</td>\n",
       "      <td>0</td>\n",
       "      <td>0</td>\n",
       "      <td>0</td>\n",
       "    </tr>\n",
       "    <tr>\n",
       "      <th>...</th>\n",
       "      <td>...</td>\n",
       "      <td>...</td>\n",
       "      <td>...</td>\n",
       "      <td>...</td>\n",
       "      <td>...</td>\n",
       "      <td>...</td>\n",
       "      <td>...</td>\n",
       "      <td>...</td>\n",
       "      <td>...</td>\n",
       "      <td>...</td>\n",
       "      <td>...</td>\n",
       "      <td>...</td>\n",
       "      <td>...</td>\n",
       "      <td>...</td>\n",
       "      <td>...</td>\n",
       "      <td>...</td>\n",
       "      <td>...</td>\n",
       "      <td>...</td>\n",
       "    </tr>\n",
       "    <tr>\n",
       "      <th>4292</th>\n",
       "      <td>13089.0</td>\n",
       "      <td>97.0</td>\n",
       "      <td>1.0</td>\n",
       "      <td>58825.83</td>\n",
       "      <td>606.451856</td>\n",
       "      <td>662.0</td>\n",
       "      <td>31070.0</td>\n",
       "      <td>18.742268</td>\n",
       "      <td>320.309278</td>\n",
       "      <td>259.906877</td>\n",
       "      <td>367.0</td>\n",
       "      <td>3.822917</td>\n",
       "      <td>4. More than 10 Orders</td>\n",
       "      <td>2</td>\n",
       "      <td>3</td>\n",
       "      <td>0</td>\n",
       "      <td>1</td>\n",
       "      <td>6</td>\n",
       "    </tr>\n",
       "    <tr>\n",
       "      <th>4293</th>\n",
       "      <td>14606.0</td>\n",
       "      <td>93.0</td>\n",
       "      <td>1.0</td>\n",
       "      <td>12156.65</td>\n",
       "      <td>130.716667</td>\n",
       "      <td>825.0</td>\n",
       "      <td>6224.0</td>\n",
       "      <td>29.032258</td>\n",
       "      <td>66.924731</td>\n",
       "      <td>258.906877</td>\n",
       "      <td>372.0</td>\n",
       "      <td>4.043478</td>\n",
       "      <td>4. More than 10 Orders</td>\n",
       "      <td>2</td>\n",
       "      <td>3</td>\n",
       "      <td>0</td>\n",
       "      <td>1</td>\n",
       "      <td>6</td>\n",
       "    </tr>\n",
       "    <tr>\n",
       "      <th>4294</th>\n",
       "      <td>14646.0</td>\n",
       "      <td>74.0</td>\n",
       "      <td>1.0</td>\n",
       "      <td>280206.02</td>\n",
       "      <td>3786.567838</td>\n",
       "      <td>719.0</td>\n",
       "      <td>197491.0</td>\n",
       "      <td>28.108108</td>\n",
       "      <td>2668.797297</td>\n",
       "      <td>258.906877</td>\n",
       "      <td>353.0</td>\n",
       "      <td>4.835616</td>\n",
       "      <td>4. More than 10 Orders</td>\n",
       "      <td>2</td>\n",
       "      <td>3</td>\n",
       "      <td>0</td>\n",
       "      <td>1</td>\n",
       "      <td>6</td>\n",
       "    </tr>\n",
       "    <tr>\n",
       "      <th>4295</th>\n",
       "      <td>15311.0</td>\n",
       "      <td>91.0</td>\n",
       "      <td>1.0</td>\n",
       "      <td>60767.90</td>\n",
       "      <td>667.779121</td>\n",
       "      <td>576.0</td>\n",
       "      <td>38194.0</td>\n",
       "      <td>26.142857</td>\n",
       "      <td>419.714286</td>\n",
       "      <td>257.906877</td>\n",
       "      <td>373.0</td>\n",
       "      <td>4.144444</td>\n",
       "      <td>4. More than 10 Orders</td>\n",
       "      <td>2</td>\n",
       "      <td>3</td>\n",
       "      <td>0</td>\n",
       "      <td>1</td>\n",
       "      <td>6</td>\n",
       "    </tr>\n",
       "    <tr>\n",
       "      <th>4296</th>\n",
       "      <td>17841.0</td>\n",
       "      <td>124.0</td>\n",
       "      <td>1.0</td>\n",
       "      <td>40991.57</td>\n",
       "      <td>330.577177</td>\n",
       "      <td>1343.0</td>\n",
       "      <td>23071.0</td>\n",
       "      <td>63.282258</td>\n",
       "      <td>186.056452</td>\n",
       "      <td>258.906877</td>\n",
       "      <td>372.0</td>\n",
       "      <td>3.024390</td>\n",
       "      <td>4. More than 10 Orders</td>\n",
       "      <td>2</td>\n",
       "      <td>3</td>\n",
       "      <td>0</td>\n",
       "      <td>1</td>\n",
       "      <td>6</td>\n",
       "    </tr>\n",
       "  </tbody>\n",
       "</table>\n",
       "<p>4297 rows × 18 columns</p>\n",
       "</div>"
      ],
      "text/plain": [
       "      customer_id  transactions  countries  total_spent  average_ticket  \\\n",
       "0         12346.0           1.0        1.0     77183.60    77183.600000   \n",
       "1         12350.0           1.0        1.0       334.40      334.400000   \n",
       "2         12354.0           1.0        1.0      1079.40     1079.400000   \n",
       "3         12361.0           1.0        1.0       189.90      189.900000   \n",
       "4         12370.0           1.0        1.0       277.20      277.200000   \n",
       "...           ...           ...        ...          ...             ...   \n",
       "4292      13089.0          97.0        1.0     58825.83      606.451856   \n",
       "4293      14606.0          93.0        1.0     12156.65      130.716667   \n",
       "4294      14646.0          74.0        1.0    280206.02     3786.567838   \n",
       "4295      15311.0          91.0        1.0     60767.90      667.779121   \n",
       "4296      17841.0         124.0        1.0     40991.57      330.577177   \n",
       "\n",
       "      distinct_products  total_quantity  average_products_per_transaction  \\\n",
       "0                   1.0         74215.0                          1.000000   \n",
       "1                  17.0           197.0                         17.000000   \n",
       "2                  58.0           530.0                         58.000000   \n",
       "3                  10.0            91.0                         10.000000   \n",
       "4                   8.0            51.0                          8.000000   \n",
       "...                 ...             ...                               ...   \n",
       "4292              662.0         31070.0                         18.742268   \n",
       "4293              825.0          6224.0                         29.032258   \n",
       "4294              719.0        197491.0                         28.108108   \n",
       "4295              576.0         38194.0                         26.142857   \n",
       "4296             1343.0         23071.0                         63.282258   \n",
       "\n",
       "      average_quantity     recency   time  average_time_between_orders  \\\n",
       "0         74215.000000  582.906877    0.0                  9999.000000   \n",
       "1           197.000000  567.906877    0.0                  9999.000000   \n",
       "2           530.000000  489.906877    0.0                  9999.000000   \n",
       "3            91.000000  544.906877    0.0                  9999.000000   \n",
       "4            51.000000  614.906877    0.0                  9999.000000   \n",
       "...                ...         ...    ...                          ...   \n",
       "4292        320.309278  259.906877  367.0                     3.822917   \n",
       "4293         66.924731  258.906877  372.0                     4.043478   \n",
       "4294       2668.797297  258.906877  353.0                     4.835616   \n",
       "4295        419.714286  257.906877  373.0                     4.144444   \n",
       "4296        186.056452  258.906877  372.0                     3.024390   \n",
       "\n",
       "       transaction_frequency  recency_cluster  transactions_cluster  \\\n",
       "0            1. Unique Order                0                     0   \n",
       "1            1. Unique Order                0                     0   \n",
       "2            1. Unique Order                0                     0   \n",
       "3            1. Unique Order                0                     0   \n",
       "4            1. Unique Order                0                     0   \n",
       "...                      ...              ...                   ...   \n",
       "4292  4. More than 10 Orders                2                     3   \n",
       "4293  4. More than 10 Orders                2                     3   \n",
       "4294  4. More than 10 Orders                2                     3   \n",
       "4295  4. More than 10 Orders                2                     3   \n",
       "4296  4. More than 10 Orders                2                     3   \n",
       "\n",
       "      average_ticket_cluster  average_time_between_orders_cluster  \\\n",
       "0                          1                                    0   \n",
       "1                          0                                    0   \n",
       "2                          0                                    0   \n",
       "3                          0                                    0   \n",
       "4                          0                                    0   \n",
       "...                      ...                                  ...   \n",
       "4292                       0                                    1   \n",
       "4293                       0                                    1   \n",
       "4294                       0                                    1   \n",
       "4295                       0                                    1   \n",
       "4296                       0                                    1   \n",
       "\n",
       "      OverallScore  \n",
       "0                1  \n",
       "1                0  \n",
       "2                0  \n",
       "3                0  \n",
       "4                0  \n",
       "...            ...  \n",
       "4292             6  \n",
       "4293             6  \n",
       "4294             6  \n",
       "4295             6  \n",
       "4296             6  \n",
       "\n",
       "[4297 rows x 18 columns]"
      ]
     },
     "execution_count": 30,
     "metadata": {},
     "output_type": "execute_result"
    }
   ],
   "source": [
    "customers"
   ]
  },
  {
   "cell_type": "markdown",
   "id": "51660a23",
   "metadata": {},
   "source": [
    "### Resumo da base de clientes, agregando por Score Geral"
   ]
  },
  {
   "cell_type": "code",
   "execution_count": 31,
   "id": "fb215e6c",
   "metadata": {
    "scrolled": false
   },
   "outputs": [
    {
     "data": {
      "text/html": [
       "<div>\n",
       "<style scoped>\n",
       "    .dataframe tbody tr th:only-of-type {\n",
       "        vertical-align: middle;\n",
       "    }\n",
       "\n",
       "    .dataframe tbody tr th {\n",
       "        vertical-align: top;\n",
       "    }\n",
       "\n",
       "    .dataframe thead th {\n",
       "        text-align: right;\n",
       "    }\n",
       "</style>\n",
       "<table border=\"1\" class=\"dataframe\">\n",
       "  <thead>\n",
       "    <tr style=\"text-align: right;\">\n",
       "      <th></th>\n",
       "      <th>customers</th>\n",
       "      <th>average_distinct_products</th>\n",
       "      <th>total_quantity</th>\n",
       "      <th>average_quantity</th>\n",
       "      <th>total_spent</th>\n",
       "      <th>average_ticket</th>\n",
       "      <th>average_time_between_orders</th>\n",
       "      <th>transactions_per_customer</th>\n",
       "      <th>average_recency</th>\n",
       "    </tr>\n",
       "    <tr>\n",
       "      <th>OverallScore</th>\n",
       "      <th></th>\n",
       "      <th></th>\n",
       "      <th></th>\n",
       "      <th></th>\n",
       "      <th></th>\n",
       "      <th></th>\n",
       "      <th></th>\n",
       "      <th></th>\n",
       "      <th></th>\n",
       "    </tr>\n",
       "  </thead>\n",
       "  <tbody>\n",
       "    <tr>\n",
       "      <th>0</th>\n",
       "      <td>510.0</td>\n",
       "      <td>18.697318</td>\n",
       "      <td>85545.0</td>\n",
       "      <td>163.879310</td>\n",
       "      <td>157075.020</td>\n",
       "      <td>300.910000</td>\n",
       "      <td>0.000000</td>\n",
       "      <td>1.023529</td>\n",
       "      <td>555.410798</td>\n",
       "    </tr>\n",
       "    <tr>\n",
       "      <th>1</th>\n",
       "      <td>466.0</td>\n",
       "      <td>17.260597</td>\n",
       "      <td>223319.0</td>\n",
       "      <td>350.579278</td>\n",
       "      <td>381539.770</td>\n",
       "      <td>598.963532</td>\n",
       "      <td>36.093567</td>\n",
       "      <td>1.366953</td>\n",
       "      <td>444.853229</td>\n",
       "    </tr>\n",
       "    <tr>\n",
       "      <th>2</th>\n",
       "      <td>1080.0</td>\n",
       "      <td>18.856374</td>\n",
       "      <td>413636.0</td>\n",
       "      <td>222.504572</td>\n",
       "      <td>649903.582</td>\n",
       "      <td>349.598484</td>\n",
       "      <td>68.607189</td>\n",
       "      <td>1.721296</td>\n",
       "      <td>342.345766</td>\n",
       "    </tr>\n",
       "    <tr>\n",
       "      <th>3</th>\n",
       "      <td>1418.0</td>\n",
       "      <td>18.929877</td>\n",
       "      <td>1035095.0</td>\n",
       "      <td>219.952189</td>\n",
       "      <td>1708324.332</td>\n",
       "      <td>363.009845</td>\n",
       "      <td>78.178528</td>\n",
       "      <td>3.318759</td>\n",
       "      <td>293.688964</td>\n",
       "    </tr>\n",
       "    <tr>\n",
       "      <th>4</th>\n",
       "      <td>719.0</td>\n",
       "      <td>13.787517</td>\n",
       "      <td>1735003.0</td>\n",
       "      <td>256.013428</td>\n",
       "      <td>3026348.780</td>\n",
       "      <td>446.561721</td>\n",
       "      <td>34.466326</td>\n",
       "      <td>9.425591</td>\n",
       "      <td>278.121063</td>\n",
       "    </tr>\n",
       "    <tr>\n",
       "      <th>5</th>\n",
       "      <td>97.0</td>\n",
       "      <td>6.560790</td>\n",
       "      <td>1178762.0</td>\n",
       "      <td>408.299965</td>\n",
       "      <td>2143477.300</td>\n",
       "      <td>742.458365</td>\n",
       "      <td>12.118638</td>\n",
       "      <td>29.762887</td>\n",
       "      <td>264.040898</td>\n",
       "    </tr>\n",
       "    <tr>\n",
       "      <th>6</th>\n",
       "      <td>7.0</td>\n",
       "      <td>7.735484</td>\n",
       "      <td>331087.0</td>\n",
       "      <td>427.209032</td>\n",
       "      <td>497857.610</td>\n",
       "      <td>642.396916</td>\n",
       "      <td>3.358073</td>\n",
       "      <td>110.714286</td>\n",
       "      <td>259.049734</td>\n",
       "    </tr>\n",
       "  </tbody>\n",
       "</table>\n",
       "</div>"
      ],
      "text/plain": [
       "              customers  average_distinct_products  total_quantity  \\\n",
       "OverallScore                                                         \n",
       "0                 510.0                  18.697318         85545.0   \n",
       "1                 466.0                  17.260597        223319.0   \n",
       "2                1080.0                  18.856374        413636.0   \n",
       "3                1418.0                  18.929877       1035095.0   \n",
       "4                 719.0                  13.787517       1735003.0   \n",
       "5                  97.0                   6.560790       1178762.0   \n",
       "6                   7.0                   7.735484        331087.0   \n",
       "\n",
       "              average_quantity  total_spent  average_ticket  \\\n",
       "OverallScore                                                  \n",
       "0                   163.879310   157075.020      300.910000   \n",
       "1                   350.579278   381539.770      598.963532   \n",
       "2                   222.504572   649903.582      349.598484   \n",
       "3                   219.952189  1708324.332      363.009845   \n",
       "4                   256.013428  3026348.780      446.561721   \n",
       "5                   408.299965  2143477.300      742.458365   \n",
       "6                   427.209032   497857.610      642.396916   \n",
       "\n",
       "              average_time_between_orders  transactions_per_customer  \\\n",
       "OverallScore                                                           \n",
       "0                                0.000000                   1.023529   \n",
       "1                               36.093567                   1.366953   \n",
       "2                               68.607189                   1.721296   \n",
       "3                               78.178528                   3.318759   \n",
       "4                               34.466326                   9.425591   \n",
       "5                               12.118638                  29.762887   \n",
       "6                                3.358073                 110.714286   \n",
       "\n",
       "              average_recency  \n",
       "OverallScore                   \n",
       "0                  555.410798  \n",
       "1                  444.853229  \n",
       "2                  342.345766  \n",
       "3                  293.688964  \n",
       "4                  278.121063  \n",
       "5                  264.040898  \n",
       "6                  259.049734  "
      ]
     },
     "execution_count": 31,
     "metadata": {},
     "output_type": "execute_result"
    }
   ],
   "source": [
    "customers.groupby('OverallScore').apply(customers_agg)"
   ]
  },
  {
   "cell_type": "markdown",
   "id": "a175385a",
   "metadata": {},
   "source": [
    "# Agora é mostrar os resultados para os times de Marketing, CRM, Atendimento e discutir as ações!\n",
    "\n",
    "### Para que clientes poderíamos fazer campanhas de reativação?\n",
    "### Quais clientes quero nutrir e engajar com melhores brindes?\n",
    "### Quanto estamos dispostos a gastar para reter um cliente super engajado e valoroso?"
   ]
  },
  {
   "cell_type": "markdown",
   "id": "5b817103",
   "metadata": {},
   "source": [
    "## Uma abordagem alternativa:\n",
    "### Segmentar usando todas as variáveis conjuntamente"
   ]
  },
  {
   "cell_type": "code",
   "execution_count": 32,
   "id": "c2c60640",
   "metadata": {},
   "outputs": [
    {
     "data": {
      "image/png": "[encoded data removed]",
      "text/plain": [
       "<Figure size 1080x504 with 1 Axes>"
      ]
     },
     "metadata": {
      "needs_background": "light"
     },
     "output_type": "display_data"
    }
   ],
   "source": [
    "base_cluster = customers[['recency', 'transactions', 'average_ticket', 'average_time_between_orders']].copy()\n",
    "sse={}\n",
    "for k in range(1, 10):\n",
    "    kmeans = KMeans(n_clusters=k, max_iter=1000).fit(base_cluster)\n",
    "    base_cluster[\"clusters\"] = kmeans.labels_\n",
    "    sse[k] = kmeans.inertia_ \n",
    "plt.figure(figsize=(15,7))\n",
    "plt.plot(list(sse.keys()), list(sse.values()), linewidth=3,linestyle='--', marker='o')\n",
    "plt.xlabel(\"Number of cluster\")\n",
    "plt.title(\"Método do Cotovelo - segmentando pelas variáveis conjuntamente\")\n",
    "plt.show()"
   ]
  },
  {
   "cell_type": "markdown",
   "id": "e10b6cdf",
   "metadata": {},
   "source": [
    "### Aplicando o K-Means para as 4 variáveis juntas, segmentando em 3 grupos"
   ]
  },
  {
   "cell_type": "code",
   "execution_count": 33,
   "id": "9bd47542",
   "metadata": {},
   "outputs": [],
   "source": [
    "kmeans = KMeans(n_clusters=3)\n",
    "kmeans.fit(customers[['recency', 'transactions', 'average_ticket', 'average_time_between_orders']])\n",
    "customers['cluster_variaveis_conjuntas'] = kmeans.predict(customers[['recency', 'transactions', 'average_ticket', 'average_time_between_orders']])"
   ]
  },
  {
   "cell_type": "markdown",
   "id": "f17c3be1",
   "metadata": {},
   "source": [
    "### Resultado dos clusters agregados"
   ]
  },
  {
   "cell_type": "code",
   "execution_count": 34,
   "id": "aa174ca2",
   "metadata": {},
   "outputs": [
    {
     "data": {
      "text/html": [
       "<div>\n",
       "<style scoped>\n",
       "    .dataframe tbody tr th:only-of-type {\n",
       "        vertical-align: middle;\n",
       "    }\n",
       "\n",
       "    .dataframe tbody tr th {\n",
       "        vertical-align: top;\n",
       "    }\n",
       "\n",
       "    .dataframe thead th {\n",
       "        text-align: right;\n",
       "    }\n",
       "</style>\n",
       "<table border=\"1\" class=\"dataframe\">\n",
       "  <thead>\n",
       "    <tr style=\"text-align: right;\">\n",
       "      <th></th>\n",
       "      <th>customers</th>\n",
       "      <th>average_distinct_products</th>\n",
       "      <th>total_quantity</th>\n",
       "      <th>average_quantity</th>\n",
       "      <th>total_spent</th>\n",
       "      <th>average_ticket</th>\n",
       "      <th>average_time_between_orders</th>\n",
       "      <th>transactions_per_customer</th>\n",
       "      <th>average_recency</th>\n",
       "    </tr>\n",
       "    <tr>\n",
       "      <th>cluster_variaveis_conjuntas</th>\n",
       "      <th></th>\n",
       "      <th></th>\n",
       "      <th></th>\n",
       "      <th></th>\n",
       "      <th></th>\n",
       "      <th></th>\n",
       "      <th></th>\n",
       "      <th></th>\n",
       "      <th></th>\n",
       "    </tr>\n",
       "  </thead>\n",
       "  <tbody>\n",
       "    <tr>\n",
       "      <th>0</th>\n",
       "      <td>1534.0</td>\n",
       "      <td>21.503448</td>\n",
       "      <td>363891.0</td>\n",
       "      <td>228.144828</td>\n",
       "      <td>618563.471</td>\n",
       "      <td>387.814088</td>\n",
       "      <td>0.000000</td>\n",
       "      <td>1.039765</td>\n",
       "      <td>413.698924</td>\n",
       "    </tr>\n",
       "    <tr>\n",
       "      <th>1</th>\n",
       "      <td>2761.0</td>\n",
       "      <td>13.822216</td>\n",
       "      <td>4483344.0</td>\n",
       "      <td>270.651615</td>\n",
       "      <td>7700306.823</td>\n",
       "      <td>464.854019</td>\n",
       "      <td>40.687482</td>\n",
       "      <td>5.999638</td>\n",
       "      <td>314.626906</td>\n",
       "    </tr>\n",
       "    <tr>\n",
       "      <th>2</th>\n",
       "      <td>2.0</td>\n",
       "      <td>1.333333</td>\n",
       "      <td>155212.0</td>\n",
       "      <td>51737.333333</td>\n",
       "      <td>245656.100</td>\n",
       "      <td>81885.366667</td>\n",
       "      <td>205.000000</td>\n",
       "      <td>1.500000</td>\n",
       "      <td>420.406877</td>\n",
       "    </tr>\n",
       "  </tbody>\n",
       "</table>\n",
       "</div>"
      ],
      "text/plain": [
       "                             customers  average_distinct_products  \\\n",
       "cluster_variaveis_conjuntas                                         \n",
       "0                               1534.0                  21.503448   \n",
       "1                               2761.0                  13.822216   \n",
       "2                                  2.0                   1.333333   \n",
       "\n",
       "                             total_quantity  average_quantity  total_spent  \\\n",
       "cluster_variaveis_conjuntas                                                  \n",
       "0                                  363891.0        228.144828   618563.471   \n",
       "1                                 4483344.0        270.651615  7700306.823   \n",
       "2                                  155212.0      51737.333333   245656.100   \n",
       "\n",
       "                             average_ticket  average_time_between_orders  \\\n",
       "cluster_variaveis_conjuntas                                                \n",
       "0                                387.814088                     0.000000   \n",
       "1                                464.854019                    40.687482   \n",
       "2                              81885.366667                   205.000000   \n",
       "\n",
       "                             transactions_per_customer  average_recency  \n",
       "cluster_variaveis_conjuntas                                              \n",
       "0                                             1.039765       413.698924  \n",
       "1                                             5.999638       314.626906  \n",
       "2                                             1.500000       420.406877  "
      ]
     },
     "execution_count": 34,
     "metadata": {},
     "output_type": "execute_result"
    }
   ],
   "source": [
    "customers.groupby('cluster_variaveis_conjuntas').apply(customers_agg)"
   ]
  },
  {
   "cell_type": "markdown",
   "id": "03f8bcb6",
   "metadata": {},
   "source": [
    "# Explorando o módulo Lifetimes\n",
    "\n",
    "### O lifetimes é uma biblioteca que permite medir clientes de maneira mais simplificada, pois ela já possui as funções para estimar a probabilidade de um cliente estar \"vivo\" (voltar a comprar) e quanto esse cliente deve gastar num horizonte de tempo futuro\n",
    "\n",
    "A documentação completa desta biblioteca pode ser encontrada aqui:\n",
    "https://lifetimes.readthedocs.io/en/latest/index.html\n",
    "\n",
    "E a documentação do módulo no pip está aqui:\n",
    "https://pypi.org/project/Lifetimes/\n",
    "\n",
    "Para usar o Lifetimes precisamos fazer algumas pequenas adaptações nas variáveis que vamos usar.\n",
    "\n",
    "- frequencia = número de recompras (total de pedidos menos 1)\n",
    "- T = idade do cliente (tempo entre o primeiro pedido e a data de hoje)\n",
    "- recencia = tempo entre primeiro e o último pedido (clientes com 1 pedido tem zero de recência)\n",
    "- valor monetario = gasto médio do cliente"
   ]
  },
  {
   "cell_type": "code",
   "execution_count": 35,
   "id": "4a0fd715",
   "metadata": {},
   "outputs": [],
   "source": [
    "def lifetimes_agg(x):\n",
    "    names = {\n",
    "        'frequency': x['transaction_id'].nunique()-1\n",
    "        , 'T': (x['current_date'].max() - x['date'].min())/np.timedelta64(1,'D') \n",
    "        , 'recency': (x['date'].max() - x['date'].min())/np.timedelta64(1,'D') \n",
    "        , 'monetary_value': x['total_value'].sum()/x['transaction_id'].nunique()\n",
    "    }\n",
    "    return pd.Series(names, index=['frequency'\n",
    "                                  , 'T'\n",
    "                                  , 'recency'\n",
    "                                  , 'monetary_value'\n",
    "                                  ])"
   ]
  },
  {
   "cell_type": "markdown",
   "id": "7f289e9f",
   "metadata": {},
   "source": [
    "### Dataset com os indicadores agregados por clientes"
   ]
  },
  {
   "cell_type": "code",
   "execution_count": 36,
   "id": "db0d54e7",
   "metadata": {
    "scrolled": false
   },
   "outputs": [],
   "source": [
    "data = df_clean.groupby('customer_id').apply(lifetimes_agg).reset_index()"
   ]
  },
  {
   "cell_type": "code",
   "execution_count": 37,
   "id": "8db71ff0",
   "metadata": {},
   "outputs": [
    {
     "data": {
      "text/html": [
       "<div>\n",
       "<style scoped>\n",
       "    .dataframe tbody tr th:only-of-type {\n",
       "        vertical-align: middle;\n",
       "    }\n",
       "\n",
       "    .dataframe tbody tr th {\n",
       "        vertical-align: top;\n",
       "    }\n",
       "\n",
       "    .dataframe thead th {\n",
       "        text-align: right;\n",
       "    }\n",
       "</style>\n",
       "<table border=\"1\" class=\"dataframe\">\n",
       "  <thead>\n",
       "    <tr style=\"text-align: right;\">\n",
       "      <th></th>\n",
       "      <th>customer_id</th>\n",
       "      <th>frequency</th>\n",
       "      <th>T</th>\n",
       "      <th>recency</th>\n",
       "      <th>monetary_value</th>\n",
       "    </tr>\n",
       "  </thead>\n",
       "  <tbody>\n",
       "    <tr>\n",
       "      <th>count</th>\n",
       "      <td>4297.000000</td>\n",
       "      <td>4297.000000</td>\n",
       "      <td>4297.000000</td>\n",
       "      <td>4297.000000</td>\n",
       "      <td>4297.000000</td>\n",
       "    </tr>\n",
       "    <tr>\n",
       "      <th>mean</th>\n",
       "      <td>15315.691180</td>\n",
       "      <td>3.226902</td>\n",
       "      <td>480.799360</td>\n",
       "      <td>130.755178</td>\n",
       "      <td>415.503620</td>\n",
       "    </tr>\n",
       "    <tr>\n",
       "      <th>std</th>\n",
       "      <td>1716.241594</td>\n",
       "      <td>7.090722</td>\n",
       "      <td>117.875461</td>\n",
       "      <td>132.298623</td>\n",
       "      <td>1803.395640</td>\n",
       "    </tr>\n",
       "    <tr>\n",
       "      <th>min</th>\n",
       "      <td>12346.000000</td>\n",
       "      <td>0.000000</td>\n",
       "      <td>257.906877</td>\n",
       "      <td>0.000000</td>\n",
       "      <td>0.000000</td>\n",
       "    </tr>\n",
       "    <tr>\n",
       "      <th>25%</th>\n",
       "      <td>13831.000000</td>\n",
       "      <td>0.000000</td>\n",
       "      <td>369.906877</td>\n",
       "      <td>0.000000</td>\n",
       "      <td>178.260000</td>\n",
       "    </tr>\n",
       "    <tr>\n",
       "      <th>50%</th>\n",
       "      <td>15321.000000</td>\n",
       "      <td>1.000000</td>\n",
       "      <td>505.906877</td>\n",
       "      <td>93.000000</td>\n",
       "      <td>291.992857</td>\n",
       "    </tr>\n",
       "    <tr>\n",
       "      <th>75%</th>\n",
       "      <td>16790.000000</td>\n",
       "      <td>4.000000</td>\n",
       "      <td>584.906877</td>\n",
       "      <td>252.000000</td>\n",
       "      <td>426.630000</td>\n",
       "    </tr>\n",
       "    <tr>\n",
       "      <th>max</th>\n",
       "      <td>18287.000000</td>\n",
       "      <td>209.000000</td>\n",
       "      <td>630.906877</td>\n",
       "      <td>373.000000</td>\n",
       "      <td>84236.250000</td>\n",
       "    </tr>\n",
       "  </tbody>\n",
       "</table>\n",
       "</div>"
      ],
      "text/plain": [
       "        customer_id    frequency            T      recency  monetary_value\n",
       "count   4297.000000  4297.000000  4297.000000  4297.000000     4297.000000\n",
       "mean   15315.691180     3.226902   480.799360   130.755178      415.503620\n",
       "std     1716.241594     7.090722   117.875461   132.298623     1803.395640\n",
       "min    12346.000000     0.000000   257.906877     0.000000        0.000000\n",
       "25%    13831.000000     0.000000   369.906877     0.000000      178.260000\n",
       "50%    15321.000000     1.000000   505.906877    93.000000      291.992857\n",
       "75%    16790.000000     4.000000   584.906877   252.000000      426.630000\n",
       "max    18287.000000   209.000000   630.906877   373.000000    84236.250000"
      ]
     },
     "execution_count": 37,
     "metadata": {},
     "output_type": "execute_result"
    }
   ],
   "source": [
    "data.describe()"
   ]
  },
  {
   "cell_type": "code",
   "execution_count": 38,
   "id": "2be1fc77",
   "metadata": {},
   "outputs": [
    {
     "data": {
      "text/html": [
       "<div>\n",
       "<style scoped>\n",
       "    .dataframe tbody tr th:only-of-type {\n",
       "        vertical-align: middle;\n",
       "    }\n",
       "\n",
       "    .dataframe tbody tr th {\n",
       "        vertical-align: top;\n",
       "    }\n",
       "\n",
       "    .dataframe thead th {\n",
       "        text-align: right;\n",
       "    }\n",
       "</style>\n",
       "<table border=\"1\" class=\"dataframe\">\n",
       "  <thead>\n",
       "    <tr style=\"text-align: right;\">\n",
       "      <th></th>\n",
       "      <th>customer_id</th>\n",
       "      <th>frequency</th>\n",
       "      <th>T</th>\n",
       "      <th>recency</th>\n",
       "      <th>monetary_value</th>\n",
       "    </tr>\n",
       "  </thead>\n",
       "  <tbody>\n",
       "  </tbody>\n",
       "</table>\n",
       "</div>"
      ],
      "text/plain": [
       "Empty DataFrame\n",
       "Columns: [customer_id, frequency, T, recency, monetary_value]\n",
       "Index: []"
      ]
     },
     "execution_count": 38,
     "metadata": {},
     "output_type": "execute_result"
    }
   ],
   "source": [
    "data[(data['recency']!=0) & (data['frequency']==0)]"
   ]
  },
  {
   "cell_type": "code",
   "execution_count": 39,
   "id": "e3dcaf27",
   "metadata": {},
   "outputs": [],
   "source": [
    "data['recency'] = np.where(data['recency']<0.001, 0, data['recency'])"
   ]
  },
  {
   "cell_type": "markdown",
   "id": "d7a65b68",
   "metadata": {},
   "source": [
    "### Análises usando o Lifetimes\n",
    "O modelo beta geométrico com distribuição binomial negativa (BG/NBD) é utilizado para estimar a esperança do número de transações futuras, dado um intervalo de tempo.\n",
    "O paper neste link traz mais detalhes sobre o modelo:\n",
    "https://www.researchgate.net/publication/227442378_Counting_Your_Customers_the_Easy_Way_An_Alternative_to_the_ParetoNBD_Model "
   ]
  },
  {
   "cell_type": "code",
   "execution_count": 40,
   "id": "c3523d9c",
   "metadata": {},
   "outputs": [],
   "source": [
    "from lifetimes import BetaGeoFitter"
   ]
  },
  {
   "cell_type": "code",
   "execution_count": 41,
   "id": "9d360b78",
   "metadata": {},
   "outputs": [
    {
     "name": "stdout",
     "output_type": "stream",
     "text": [
      "<lifetimes.BetaGeoFitter: fitted with 4297 subjects, a: 3.78, alpha: 24.27, b: 14.72, r: 0.38>\n"
     ]
    }
   ],
   "source": [
    "bgf = BetaGeoFitter(penalizer_coef=0.0)\n",
    "bgf.fit(data['frequency'], data['recency'], data['T'])\n",
    "print(bgf)"
   ]
  },
  {
   "cell_type": "code",
   "execution_count": 42,
   "id": "8b66a1d1",
   "metadata": {},
   "outputs": [
    {
     "data": {
      "text/html": [
       "<div>\n",
       "<style scoped>\n",
       "    .dataframe tbody tr th:only-of-type {\n",
       "        vertical-align: middle;\n",
       "    }\n",
       "\n",
       "    .dataframe tbody tr th {\n",
       "        vertical-align: top;\n",
       "    }\n",
       "\n",
       "    .dataframe thead th {\n",
       "        text-align: right;\n",
       "    }\n",
       "</style>\n",
       "<table border=\"1\" class=\"dataframe\">\n",
       "  <thead>\n",
       "    <tr style=\"text-align: right;\">\n",
       "      <th></th>\n",
       "      <th>coef</th>\n",
       "      <th>se(coef)</th>\n",
       "      <th>lower 95% bound</th>\n",
       "      <th>upper 95% bound</th>\n",
       "    </tr>\n",
       "  </thead>\n",
       "  <tbody>\n",
       "    <tr>\n",
       "      <th>r</th>\n",
       "      <td>0.381364</td>\n",
       "      <td>0.010349</td>\n",
       "      <td>0.361081</td>\n",
       "      <td>0.401647</td>\n",
       "    </tr>\n",
       "    <tr>\n",
       "      <th>alpha</th>\n",
       "      <td>24.266022</td>\n",
       "      <td>1.034611</td>\n",
       "      <td>22.238184</td>\n",
       "      <td>26.293860</td>\n",
       "    </tr>\n",
       "    <tr>\n",
       "      <th>a</th>\n",
       "      <td>3.777381</td>\n",
       "      <td>0.387410</td>\n",
       "      <td>3.018056</td>\n",
       "      <td>4.536705</td>\n",
       "    </tr>\n",
       "    <tr>\n",
       "      <th>b</th>\n",
       "      <td>14.715169</td>\n",
       "      <td>1.854623</td>\n",
       "      <td>11.080107</td>\n",
       "      <td>18.350231</td>\n",
       "    </tr>\n",
       "  </tbody>\n",
       "</table>\n",
       "</div>"
      ],
      "text/plain": [
       "            coef  se(coef)  lower 95% bound  upper 95% bound\n",
       "r       0.381364  0.010349         0.361081         0.401647\n",
       "alpha  24.266022  1.034611        22.238184        26.293860\n",
       "a       3.777381  0.387410         3.018056         4.536705\n",
       "b      14.715169  1.854623        11.080107        18.350231"
      ]
     },
     "execution_count": 42,
     "metadata": {},
     "output_type": "execute_result"
    }
   ],
   "source": [
    "bgf.summary"
   ]
  },
  {
   "cell_type": "markdown",
   "id": "d1c7b3c4",
   "metadata": {},
   "source": [
    "### Quanto maior a recência (tempo entre primeiro e último pedido) e quanto maior a quantidade a frequência (pedidos realizados), maior a probabilidade de recompra"
   ]
  },
  {
   "cell_type": "code",
   "execution_count": 43,
   "id": "9eacfd88",
   "metadata": {},
   "outputs": [],
   "source": [
    "from lifetimes.plotting import plot_frequency_recency_matrix\\\n",
    "                            , plot_probability_alive_matrix\\\n",
    "                            , plot_period_transactions\\\n",
    "                            , plot_history_alive"
   ]
  },
  {
   "cell_type": "code",
   "execution_count": 44,
   "id": "103c6912",
   "metadata": {},
   "outputs": [
    {
     "data": {
      "text/plain": [
       "<AxesSubplot:title={'center':'Expected Number of Future Purchases for 30 Units of Time,\\nby Frequency and Recency of a Customer'}, xlabel=\"Customer's Historical Frequency\", ylabel=\"Customer's Recency\">"
      ]
     },
     "execution_count": 44,
     "metadata": {},
     "output_type": "execute_result"
    },
    {
     "data": {
      "image/png": "[encoded data removed]",
      "text/plain": [
       "<Figure size 1080x720 with 2 Axes>"
      ]
     },
     "metadata": {
      "needs_background": "light"
     },
     "output_type": "display_data"
    }
   ],
   "source": [
    "plt.figure(figsize=(15,10))\n",
    "plot_frequency_recency_matrix(bgf, T=30)"
   ]
  },
  {
   "cell_type": "markdown",
   "id": "1c8fe1ed",
   "metadata": {},
   "source": [
    "### Probabilidade de um Cliente estar vivo"
   ]
  },
  {
   "cell_type": "code",
   "execution_count": 45,
   "id": "f7b2e217",
   "metadata": {},
   "outputs": [
    {
     "data": {
      "text/plain": [
       "<AxesSubplot:title={'center':'Probability Customer is Alive,\\nby Frequency and Recency of a Customer'}, xlabel=\"Customer's Historical Frequency\", ylabel=\"Customer's Recency\">"
      ]
     },
     "execution_count": 45,
     "metadata": {},
     "output_type": "execute_result"
    },
    {
     "data": {
      "image/png": "[encoded data removed]",
      "text/plain": [
       "<Figure size 1080x720 with 2 Axes>"
      ]
     },
     "metadata": {
      "needs_background": "light"
     },
     "output_type": "display_data"
    }
   ],
   "source": [
    "plt.figure(figsize=(15,10))\n",
    "plot_probability_alive_matrix(bgf)"
   ]
  },
  {
   "cell_type": "markdown",
   "id": "6831be77",
   "metadata": {},
   "source": [
    "### Previsão de número de pedidos para daqui a 30 dias"
   ]
  },
  {
   "cell_type": "code",
   "execution_count": 46,
   "id": "38fb80c6",
   "metadata": {},
   "outputs": [
    {
     "data": {
      "text/html": [
       "<div>\n",
       "<style scoped>\n",
       "    .dataframe tbody tr th:only-of-type {\n",
       "        vertical-align: middle;\n",
       "    }\n",
       "\n",
       "    .dataframe tbody tr th {\n",
       "        vertical-align: top;\n",
       "    }\n",
       "\n",
       "    .dataframe thead th {\n",
       "        text-align: right;\n",
       "    }\n",
       "</style>\n",
       "<table border=\"1\" class=\"dataframe\">\n",
       "  <thead>\n",
       "    <tr style=\"text-align: right;\">\n",
       "      <th></th>\n",
       "      <th>customer_id</th>\n",
       "      <th>frequency</th>\n",
       "      <th>T</th>\n",
       "      <th>recency</th>\n",
       "      <th>monetary_value</th>\n",
       "      <th>predicted_purchases</th>\n",
       "    </tr>\n",
       "  </thead>\n",
       "  <tbody>\n",
       "    <tr>\n",
       "      <th>1822</th>\n",
       "      <td>14871.0</td>\n",
       "      <td>3.0</td>\n",
       "      <td>617.906877</td>\n",
       "      <td>357.0</td>\n",
       "      <td>130.5950</td>\n",
       "      <td>0.066962</td>\n",
       "    </tr>\n",
       "    <tr>\n",
       "      <th>1405</th>\n",
       "      <td>14293.0</td>\n",
       "      <td>3.0</td>\n",
       "      <td>625.906877</td>\n",
       "      <td>365.0</td>\n",
       "      <td>261.6400</td>\n",
       "      <td>0.067220</td>\n",
       "    </tr>\n",
       "    <tr>\n",
       "      <th>4002</th>\n",
       "      <td>17884.0</td>\n",
       "      <td>3.0</td>\n",
       "      <td>628.906877</td>\n",
       "      <td>368.0</td>\n",
       "      <td>179.3625</td>\n",
       "      <td>0.067308</td>\n",
       "    </tr>\n",
       "    <tr>\n",
       "      <th>3037</th>\n",
       "      <td>16539.0</td>\n",
       "      <td>3.0</td>\n",
       "      <td>630.906877</td>\n",
       "      <td>371.0</td>\n",
       "      <td>347.2025</td>\n",
       "      <td>0.067685</td>\n",
       "    </tr>\n",
       "    <tr>\n",
       "      <th>531</th>\n",
       "      <td>13077.0</td>\n",
       "      <td>3.0</td>\n",
       "      <td>623.906877</td>\n",
       "      <td>365.0</td>\n",
       "      <td>182.3175</td>\n",
       "      <td>0.067819</td>\n",
       "    </tr>\n",
       "  </tbody>\n",
       "</table>\n",
       "</div>"
      ],
      "text/plain": [
       "      customer_id  frequency           T  recency  monetary_value  \\\n",
       "1822      14871.0        3.0  617.906877    357.0        130.5950   \n",
       "1405      14293.0        3.0  625.906877    365.0        261.6400   \n",
       "4002      17884.0        3.0  628.906877    368.0        179.3625   \n",
       "3037      16539.0        3.0  630.906877    371.0        347.2025   \n",
       "531       13077.0        3.0  623.906877    365.0        182.3175   \n",
       "\n",
       "      predicted_purchases  \n",
       "1822             0.066962  \n",
       "1405             0.067220  \n",
       "4002             0.067308  \n",
       "3037             0.067685  \n",
       "531              0.067819  "
      ]
     },
     "execution_count": 46,
     "metadata": {},
     "output_type": "execute_result"
    }
   ],
   "source": [
    "t = 30\n",
    "data['predicted_purchases'] = bgf.conditional_expected_number_of_purchases_up_to_time(t, data['frequency'], data['recency'], data['T'])\n",
    "data.sort_values(by='predicted_purchases').tail(5)"
   ]
  },
  {
   "cell_type": "code",
   "execution_count": 47,
   "id": "c1b32a39",
   "metadata": {},
   "outputs": [
    {
     "data": {
      "text/plain": [
       "<AxesSubplot:title={'center':'Frequency of Repeat Transactions'}, xlabel='Number of Calibration Period Transactions', ylabel='Customers'>"
      ]
     },
     "execution_count": 47,
     "metadata": {},
     "output_type": "execute_result"
    },
    {
     "data": {
      "text/plain": [
       "<Figure size 1080x720 with 0 Axes>"
      ]
     },
     "metadata": {},
     "output_type": "display_data"
    },
    {
     "data": {
      "image/png": "[encoded data removed]",
      "text/plain": [
       "<Figure size 432x288 with 1 Axes>"
      ]
     },
     "metadata": {
      "needs_background": "light"
     },
     "output_type": "display_data"
    }
   ],
   "source": [
    "plt.figure(figsize=(15,10))\n",
    "plot_period_transactions(bgf)"
   ]
  },
  {
   "cell_type": "markdown",
   "id": "ea7ea20f",
   "metadata": {},
   "source": [
    "### Usando os dados transacionais para prever clientes individualmente"
   ]
  },
  {
   "cell_type": "code",
   "execution_count": 48,
   "id": "65d8d7bb",
   "metadata": {},
   "outputs": [],
   "source": [
    "transaction_data = df_clean.groupby(['customer_id', 'date']).sum().reset_index()\n",
    "transaction_data = transaction_data[['customer_id', 'date', 'total_value']]"
   ]
  },
  {
   "cell_type": "code",
   "execution_count": 49,
   "id": "5c050260",
   "metadata": {},
   "outputs": [
    {
     "data": {
      "text/html": [
       "<div>\n",
       "<style scoped>\n",
       "    .dataframe tbody tr th:only-of-type {\n",
       "        vertical-align: middle;\n",
       "    }\n",
       "\n",
       "    .dataframe tbody tr th {\n",
       "        vertical-align: top;\n",
       "    }\n",
       "\n",
       "    .dataframe thead th {\n",
       "        text-align: right;\n",
       "    }\n",
       "</style>\n",
       "<table border=\"1\" class=\"dataframe\">\n",
       "  <thead>\n",
       "    <tr style=\"text-align: right;\">\n",
       "      <th></th>\n",
       "      <th>frequency_cal</th>\n",
       "      <th>recency_cal</th>\n",
       "      <th>T_cal</th>\n",
       "      <th>frequency_holdout</th>\n",
       "      <th>duration_holdout</th>\n",
       "    </tr>\n",
       "    <tr>\n",
       "      <th>customer_id</th>\n",
       "      <th></th>\n",
       "      <th></th>\n",
       "      <th></th>\n",
       "      <th></th>\n",
       "      <th></th>\n",
       "    </tr>\n",
       "  </thead>\n",
       "  <tbody>\n",
       "    <tr>\n",
       "      <th>12346.0</th>\n",
       "      <td>0.0</td>\n",
       "      <td>0.0</td>\n",
       "      <td>324.0</td>\n",
       "      <td>0.0</td>\n",
       "      <td>1.0</td>\n",
       "    </tr>\n",
       "    <tr>\n",
       "      <th>12347.0</th>\n",
       "      <td>6.0</td>\n",
       "      <td>365.0</td>\n",
       "      <td>366.0</td>\n",
       "      <td>0.0</td>\n",
       "      <td>1.0</td>\n",
       "    </tr>\n",
       "    <tr>\n",
       "      <th>12349.0</th>\n",
       "      <td>0.0</td>\n",
       "      <td>0.0</td>\n",
       "      <td>17.0</td>\n",
       "      <td>0.0</td>\n",
       "      <td>1.0</td>\n",
       "    </tr>\n",
       "    <tr>\n",
       "      <th>12350.0</th>\n",
       "      <td>0.0</td>\n",
       "      <td>0.0</td>\n",
       "      <td>309.0</td>\n",
       "      <td>0.0</td>\n",
       "      <td>1.0</td>\n",
       "    </tr>\n",
       "    <tr>\n",
       "      <th>12352.0</th>\n",
       "      <td>6.0</td>\n",
       "      <td>260.0</td>\n",
       "      <td>295.0</td>\n",
       "      <td>0.0</td>\n",
       "      <td>1.0</td>\n",
       "    </tr>\n",
       "  </tbody>\n",
       "</table>\n",
       "</div>"
      ],
      "text/plain": [
       "             frequency_cal  recency_cal  T_cal  frequency_holdout  \\\n",
       "customer_id                                                         \n",
       "12346.0                0.0          0.0  324.0                0.0   \n",
       "12347.0                6.0        365.0  366.0                0.0   \n",
       "12349.0                0.0          0.0   17.0                0.0   \n",
       "12350.0                0.0          0.0  309.0                0.0   \n",
       "12352.0                6.0        260.0  295.0                0.0   \n",
       "\n",
       "             duration_holdout  \n",
       "customer_id                    \n",
       "12346.0                   1.0  \n",
       "12347.0                   1.0  \n",
       "12349.0                   1.0  \n",
       "12350.0                   1.0  \n",
       "12352.0                   1.0  "
      ]
     },
     "execution_count": 49,
     "metadata": {},
     "output_type": "execute_result"
    }
   ],
   "source": [
    "from lifetimes.utils import calibration_and_holdout_data\n",
    "\n",
    "summary_cal_holdout = calibration_and_holdout_data(transaction_data, 'customer_id', 'date',\n",
    "                                        calibration_period_end=transaction_data['date'].max().value-180,\n",
    "                                        observation_period_end=transaction_data['date'].max().value)\n",
    "summary_cal_holdout.head()"
   ]
  },
  {
   "cell_type": "code",
   "execution_count": 50,
   "id": "1e025322",
   "metadata": {},
   "outputs": [
    {
     "data": {
      "text/plain": [
       "<AxesSubplot:title={'center':'Actual Purchases in Holdout Period vs Predicted Purchases'}, xlabel='Purchases in calibration period', ylabel='Average of Purchases in Holdout Period'>"
      ]
     },
     "execution_count": 50,
     "metadata": {},
     "output_type": "execute_result"
    },
    {
     "data": {
      "image/png": "[encoded data removed]",
      "text/plain": [
       "<Figure size 432x288 with 1 Axes>"
      ]
     },
     "metadata": {
      "needs_background": "light"
     },
     "output_type": "display_data"
    }
   ],
   "source": [
    "from lifetimes.plotting import plot_calibration_purchases_vs_holdout_purchases\n",
    "\n",
    "bgf.fit(summary_cal_holdout['frequency_cal'], summary_cal_holdout['recency_cal'], summary_cal_holdout['T_cal'])\n",
    "plot_calibration_purchases_vs_holdout_purchases(bgf, summary_cal_holdout)"
   ]
  },
  {
   "cell_type": "markdown",
   "id": "5e3755c9",
   "metadata": {},
   "source": [
    "### Ajustando o modelo para prever a probabilidade de um cliente estar \"Vivo\" no futuro"
   ]
  },
  {
   "cell_type": "code",
   "execution_count": 51,
   "id": "87fff507",
   "metadata": {},
   "outputs": [
    {
     "data": {
      "text/plain": [
       "<lifetimes.BetaGeoFitter: fitted with 4297 subjects, a: 3.78, alpha: 24.27, b: 14.72, r: 0.38>"
      ]
     },
     "execution_count": 51,
     "metadata": {},
     "output_type": "execute_result"
    }
   ],
   "source": [
    "bgf.fit(data['frequency'], data['recency'], data['T'])"
   ]
  },
  {
   "cell_type": "markdown",
   "id": "a5de7f70",
   "metadata": {},
   "source": [
    "### Listando os clientes de maior frequencia"
   ]
  },
  {
   "cell_type": "code",
   "execution_count": 52,
   "id": "aa229a47",
   "metadata": {},
   "outputs": [
    {
     "data": {
      "text/html": [
       "<div>\n",
       "<style scoped>\n",
       "    .dataframe tbody tr th:only-of-type {\n",
       "        vertical-align: middle;\n",
       "    }\n",
       "\n",
       "    .dataframe tbody tr th {\n",
       "        vertical-align: top;\n",
       "    }\n",
       "\n",
       "    .dataframe thead th {\n",
       "        text-align: right;\n",
       "    }\n",
       "</style>\n",
       "<table border=\"1\" class=\"dataframe\">\n",
       "  <thead>\n",
       "    <tr style=\"text-align: right;\">\n",
       "      <th></th>\n",
       "      <th>customer_id</th>\n",
       "      <th>frequency</th>\n",
       "      <th>T</th>\n",
       "      <th>recency</th>\n",
       "      <th>monetary_value</th>\n",
       "      <th>predicted_purchases</th>\n",
       "    </tr>\n",
       "  </thead>\n",
       "  <tbody>\n",
       "    <tr>\n",
       "      <th>304</th>\n",
       "      <td>12748.0</td>\n",
       "      <td>209.0</td>\n",
       "      <td>630.906877</td>\n",
       "      <td>373.0</td>\n",
       "      <td>160.570143</td>\n",
       "      <td>1.679662e-43</td>\n",
       "    </tr>\n",
       "    <tr>\n",
       "      <th>3970</th>\n",
       "      <td>17841.0</td>\n",
       "      <td>123.0</td>\n",
       "      <td>630.906877</td>\n",
       "      <td>372.0</td>\n",
       "      <td>330.577177</td>\n",
       "      <td>2.166638e-25</td>\n",
       "    </tr>\n",
       "    <tr>\n",
       "      <th>539</th>\n",
       "      <td>13089.0</td>\n",
       "      <td>96.0</td>\n",
       "      <td>626.906877</td>\n",
       "      <td>367.0</td>\n",
       "      <td>606.451856</td>\n",
       "      <td>5.718205e-20</td>\n",
       "    </tr>\n",
       "    <tr>\n",
       "      <th>1633</th>\n",
       "      <td>14606.0</td>\n",
       "      <td>92.0</td>\n",
       "      <td>630.906877</td>\n",
       "      <td>372.0</td>\n",
       "      <td>130.716667</td>\n",
       "      <td>7.397696e-19</td>\n",
       "    </tr>\n",
       "    <tr>\n",
       "      <th>2139</th>\n",
       "      <td>15311.0</td>\n",
       "      <td>90.0</td>\n",
       "      <td>630.906877</td>\n",
       "      <td>373.0</td>\n",
       "      <td>667.779121</td>\n",
       "      <td>2.438184e-18</td>\n",
       "    </tr>\n",
       "  </tbody>\n",
       "</table>\n",
       "</div>"
      ],
      "text/plain": [
       "      customer_id  frequency           T  recency  monetary_value  \\\n",
       "304       12748.0      209.0  630.906877    373.0      160.570143   \n",
       "3970      17841.0      123.0  630.906877    372.0      330.577177   \n",
       "539       13089.0       96.0  626.906877    367.0      606.451856   \n",
       "1633      14606.0       92.0  630.906877    372.0      130.716667   \n",
       "2139      15311.0       90.0  630.906877    373.0      667.779121   \n",
       "\n",
       "      predicted_purchases  \n",
       "304          1.679662e-43  \n",
       "3970         2.166638e-25  \n",
       "539          5.718205e-20  \n",
       "1633         7.397696e-19  \n",
       "2139         2.438184e-18  "
      ]
     },
     "execution_count": 52,
     "metadata": {},
     "output_type": "execute_result"
    }
   ],
   "source": [
    "data.sort_values('frequency', ascending=False).head()"
   ]
  },
  {
   "cell_type": "code",
   "execution_count": 53,
   "id": "0d65a8b2",
   "metadata": {},
   "outputs": [
    {
     "data": {
      "text/plain": [
       "304    6.036046e-45\n",
       "dtype: float64"
      ]
     },
     "execution_count": 53,
     "metadata": {},
     "output_type": "execute_result"
    }
   ],
   "source": [
    "t = 1\n",
    "id = 12748.0\n",
    "\n",
    "individual = data.loc[data['customer_id'] == id]\n",
    "\n",
    "bgf.predict(t, individual['frequency'], individual['recency'], individual['T'])"
   ]
  },
  {
   "cell_type": "code",
   "execution_count": 54,
   "id": "b82360e0",
   "metadata": {},
   "outputs": [
    {
     "data": {
      "text/plain": [
       "<AxesSubplot:title={'center':'History of P_alive'}, ylabel='P_alive'>"
      ]
     },
     "execution_count": 54,
     "metadata": {},
     "output_type": "execute_result"
    },
    {
     "data": {
      "image/png": "[encoded data removed]",
      "text/plain": [
       "<Figure size 1080x720 with 1 Axes>"
      ]
     },
     "metadata": {
      "needs_background": "light"
     },
     "output_type": "display_data"
    }
   ],
   "source": [
    "sp_trans = transaction_data.loc[transaction_data['customer_id'] == id]\n",
    "days_since_birth = round((pd.Timestamp.now()-sp_trans.min()[1])/np.timedelta64(1,'D'))\n",
    "plt.figure(figsize=(15,10))\n",
    "plot_history_alive(bgf, days_since_birth, sp_trans, 'date')"
   ]
  },
  {
   "cell_type": "markdown",
   "id": "2ad7eb1b",
   "metadata": {},
   "source": [
    "### Listando os clientes com menor frequencia (maiores que zero)"
   ]
  },
  {
   "cell_type": "code",
   "execution_count": 55,
   "id": "9f95dbbc",
   "metadata": {},
   "outputs": [
    {
     "data": {
      "text/html": [
       "<div>\n",
       "<style scoped>\n",
       "    .dataframe tbody tr th:only-of-type {\n",
       "        vertical-align: middle;\n",
       "    }\n",
       "\n",
       "    .dataframe tbody tr th {\n",
       "        vertical-align: top;\n",
       "    }\n",
       "\n",
       "    .dataframe thead th {\n",
       "        text-align: right;\n",
       "    }\n",
       "</style>\n",
       "<table border=\"1\" class=\"dataframe\">\n",
       "  <thead>\n",
       "    <tr style=\"text-align: right;\">\n",
       "      <th></th>\n",
       "      <th>customer_id</th>\n",
       "      <th>frequency</th>\n",
       "      <th>T</th>\n",
       "      <th>recency</th>\n",
       "      <th>monetary_value</th>\n",
       "      <th>predicted_purchases</th>\n",
       "    </tr>\n",
       "  </thead>\n",
       "  <tbody>\n",
       "    <tr>\n",
       "      <th>2153</th>\n",
       "      <td>15329.0</td>\n",
       "      <td>2.0</td>\n",
       "      <td>428.906877</td>\n",
       "      <td>132.0</td>\n",
       "      <td>349.900000</td>\n",
       "      <td>0.038290</td>\n",
       "    </tr>\n",
       "    <tr>\n",
       "      <th>2047</th>\n",
       "      <td>15192.0</td>\n",
       "      <td>2.0</td>\n",
       "      <td>622.906877</td>\n",
       "      <td>246.0</td>\n",
       "      <td>348.106667</td>\n",
       "      <td>0.037230</td>\n",
       "    </tr>\n",
       "    <tr>\n",
       "      <th>2051</th>\n",
       "      <td>15197.0</td>\n",
       "      <td>2.0</td>\n",
       "      <td>615.906877</td>\n",
       "      <td>348.0</td>\n",
       "      <td>359.870000</td>\n",
       "      <td>0.058691</td>\n",
       "    </tr>\n",
       "    <tr>\n",
       "      <th>2065</th>\n",
       "      <td>15215.0</td>\n",
       "      <td>2.0</td>\n",
       "      <td>353.906877</td>\n",
       "      <td>50.0</td>\n",
       "      <td>244.980000</td>\n",
       "      <td>0.014638</td>\n",
       "    </tr>\n",
       "    <tr>\n",
       "      <th>2084</th>\n",
       "      <td>15238.0</td>\n",
       "      <td>2.0</td>\n",
       "      <td>441.906877</td>\n",
       "      <td>155.0</td>\n",
       "      <td>357.330000</td>\n",
       "      <td>0.044979</td>\n",
       "    </tr>\n",
       "  </tbody>\n",
       "</table>\n",
       "</div>"
      ],
      "text/plain": [
       "      customer_id  frequency           T  recency  monetary_value  \\\n",
       "2153      15329.0        2.0  428.906877    132.0      349.900000   \n",
       "2047      15192.0        2.0  622.906877    246.0      348.106667   \n",
       "2051      15197.0        2.0  615.906877    348.0      359.870000   \n",
       "2065      15215.0        2.0  353.906877     50.0      244.980000   \n",
       "2084      15238.0        2.0  441.906877    155.0      357.330000   \n",
       "\n",
       "      predicted_purchases  \n",
       "2153             0.038290  \n",
       "2047             0.037230  \n",
       "2051             0.058691  \n",
       "2065             0.014638  \n",
       "2084             0.044979  "
      ]
     },
     "execution_count": 55,
     "metadata": {},
     "output_type": "execute_result"
    }
   ],
   "source": [
    "data.loc[data['frequency']>1].sort_values('frequency', ascending=True).head()"
   ]
  },
  {
   "cell_type": "code",
   "execution_count": 56,
   "id": "6470629c",
   "metadata": {},
   "outputs": [
    {
     "data": {
      "text/plain": [
       "2153    0.03829\n",
       "dtype: float64"
      ]
     },
     "execution_count": 56,
     "metadata": {},
     "output_type": "execute_result"
    }
   ],
   "source": [
    "t = 30\n",
    "id = 15329.0\n",
    "\n",
    "individual = data.loc[data['customer_id'] == id]\n",
    "\n",
    "bgf.predict(t, individual['frequency'], individual['recency'], individual['T'])"
   ]
  },
  {
   "cell_type": "code",
   "execution_count": 57,
   "id": "b4def2b4",
   "metadata": {},
   "outputs": [
    {
     "data": {
      "text/plain": [
       "<AxesSubplot:title={'center':'History of P_alive'}, ylabel='P_alive'>"
      ]
     },
     "execution_count": 57,
     "metadata": {},
     "output_type": "execute_result"
    },
    {
     "data": {
      "image/png": "[encoded data removed]",
      "text/plain": [
       "<Figure size 1080x720 with 1 Axes>"
      ]
     },
     "metadata": {
      "needs_background": "light"
     },
     "output_type": "display_data"
    }
   ],
   "source": [
    "sp_trans = transaction_data.loc[transaction_data['customer_id'] == id]\n",
    "days_since_birth = round((pd.Timestamp.now()-sp_trans.min()[1])/np.timedelta64(1,'D'))\n",
    "plt.figure(figsize=(15,10))\n",
    "plot_history_alive(bgf, days_since_birth, sp_trans, 'date')"
   ]
  },
  {
   "cell_type": "markdown",
   "id": "30069ce9",
   "metadata": {},
   "source": [
    "### Estimativa do valor do cliente usando modelo Gama-Gama\n",
    "\n",
    "O paper que suporta estes cálculos pode ser encontrado neste link: http://www.brucehardie.com/notes/025/gamma_gamma.pdf"
   ]
  },
  {
   "cell_type": "code",
   "execution_count": 58,
   "id": "b9685963",
   "metadata": {},
   "outputs": [],
   "source": [
    "returning_customers_summary = data[data['frequency']>0]"
   ]
  },
  {
   "cell_type": "markdown",
   "id": "3865bf8e",
   "metadata": {},
   "source": [
    "### O modelo gamma-gamma assume que não existe uma correlação entre o gasto médio e o número de pedidos, portanto vamos checar a correlação de pearson para ver se esse valor está próximo de zero"
   ]
  },
  {
   "cell_type": "code",
   "execution_count": 59,
   "id": "98f87234",
   "metadata": {
    "scrolled": true
   },
   "outputs": [
    {
     "data": {
      "text/html": [
       "<div>\n",
       "<style scoped>\n",
       "    .dataframe tbody tr th:only-of-type {\n",
       "        vertical-align: middle;\n",
       "    }\n",
       "\n",
       "    .dataframe tbody tr th {\n",
       "        vertical-align: top;\n",
       "    }\n",
       "\n",
       "    .dataframe thead th {\n",
       "        text-align: right;\n",
       "    }\n",
       "</style>\n",
       "<table border=\"1\" class=\"dataframe\">\n",
       "  <thead>\n",
       "    <tr style=\"text-align: right;\">\n",
       "      <th></th>\n",
       "      <th>monetary_value</th>\n",
       "      <th>frequency</th>\n",
       "    </tr>\n",
       "  </thead>\n",
       "  <tbody>\n",
       "    <tr>\n",
       "      <th>monetary_value</th>\n",
       "      <td>1.000000</td>\n",
       "      <td>0.025322</td>\n",
       "    </tr>\n",
       "    <tr>\n",
       "      <th>frequency</th>\n",
       "      <td>0.025322</td>\n",
       "      <td>1.000000</td>\n",
       "    </tr>\n",
       "  </tbody>\n",
       "</table>\n",
       "</div>"
      ],
      "text/plain": [
       "                monetary_value  frequency\n",
       "monetary_value        1.000000   0.025322\n",
       "frequency             0.025322   1.000000"
      ]
     },
     "execution_count": 59,
     "metadata": {},
     "output_type": "execute_result"
    }
   ],
   "source": [
    "returning_customers_summary[['monetary_value', 'frequency']].corr()"
   ]
  },
  {
   "cell_type": "code",
   "execution_count": 60,
   "id": "77c83272",
   "metadata": {},
   "outputs": [
    {
     "name": "stdout",
     "output_type": "stream",
     "text": [
      "<lifetimes.GammaGammaFitter: fitted with 2816 subjects, p: 3.34, q: 3.61, v: 301.64>\n"
     ]
    }
   ],
   "source": [
    "from lifetimes import GammaGammaFitter\n",
    "\n",
    "ggf = GammaGammaFitter(penalizer_coef = 0)\n",
    "ggf.fit(returning_customers_summary['frequency'],\n",
    "        returning_customers_summary['monetary_value'])\n",
    "print(ggf)"
   ]
  },
  {
   "cell_type": "code",
   "execution_count": 61,
   "id": "34bed169",
   "metadata": {},
   "outputs": [
    {
     "data": {
      "text/html": [
       "<div>\n",
       "<style scoped>\n",
       "    .dataframe tbody tr th:only-of-type {\n",
       "        vertical-align: middle;\n",
       "    }\n",
       "\n",
       "    .dataframe tbody tr th {\n",
       "        vertical-align: top;\n",
       "    }\n",
       "\n",
       "    .dataframe thead th {\n",
       "        text-align: right;\n",
       "    }\n",
       "</style>\n",
       "<table border=\"1\" class=\"dataframe\">\n",
       "  <thead>\n",
       "    <tr style=\"text-align: right;\">\n",
       "      <th></th>\n",
       "      <th>customer_id</th>\n",
       "      <th>frequency</th>\n",
       "      <th>T</th>\n",
       "      <th>recency</th>\n",
       "      <th>monetary_value</th>\n",
       "      <th>predicted_purchases</th>\n",
       "      <th>avg_spent</th>\n",
       "    </tr>\n",
       "  </thead>\n",
       "  <tbody>\n",
       "    <tr>\n",
       "      <th>0</th>\n",
       "      <td>12346.0</td>\n",
       "      <td>0.0</td>\n",
       "      <td>582.906877</td>\n",
       "      <td>0.0</td>\n",
       "      <td>77183.600000</td>\n",
       "      <td>0.018713</td>\n",
       "      <td>385.826420</td>\n",
       "    </tr>\n",
       "    <tr>\n",
       "      <th>1</th>\n",
       "      <td>12347.0</td>\n",
       "      <td>6.0</td>\n",
       "      <td>624.906877</td>\n",
       "      <td>365.0</td>\n",
       "      <td>615.714286</td>\n",
       "      <td>0.047813</td>\n",
       "      <td>589.213093</td>\n",
       "    </tr>\n",
       "    <tr>\n",
       "      <th>2</th>\n",
       "      <td>12349.0</td>\n",
       "      <td>0.0</td>\n",
       "      <td>275.906877</td>\n",
       "      <td>0.0</td>\n",
       "      <td>1757.550000</td>\n",
       "      <td>0.037587</td>\n",
       "      <td>385.826420</td>\n",
       "    </tr>\n",
       "    <tr>\n",
       "      <th>3</th>\n",
       "      <td>12350.0</td>\n",
       "      <td>0.0</td>\n",
       "      <td>567.906877</td>\n",
       "      <td>0.0</td>\n",
       "      <td>334.400000</td>\n",
       "      <td>0.019184</td>\n",
       "      <td>385.826420</td>\n",
       "    </tr>\n",
       "    <tr>\n",
       "      <th>4</th>\n",
       "      <td>12352.0</td>\n",
       "      <td>7.0</td>\n",
       "      <td>553.906877</td>\n",
       "      <td>260.0</td>\n",
       "      <td>313.255000</td>\n",
       "      <td>0.010474</td>\n",
       "      <td>320.545879</td>\n",
       "    </tr>\n",
       "    <tr>\n",
       "      <th>5</th>\n",
       "      <td>12353.0</td>\n",
       "      <td>0.0</td>\n",
       "      <td>461.906877</td>\n",
       "      <td>0.0</td>\n",
       "      <td>89.000000</td>\n",
       "      <td>0.023330</td>\n",
       "      <td>385.826420</td>\n",
       "    </tr>\n",
       "    <tr>\n",
       "      <th>6</th>\n",
       "      <td>12354.0</td>\n",
       "      <td>0.0</td>\n",
       "      <td>489.906877</td>\n",
       "      <td>0.0</td>\n",
       "      <td>1079.400000</td>\n",
       "      <td>0.022070</td>\n",
       "      <td>385.826420</td>\n",
       "    </tr>\n",
       "    <tr>\n",
       "      <th>7</th>\n",
       "      <td>12355.0</td>\n",
       "      <td>0.0</td>\n",
       "      <td>471.906877</td>\n",
       "      <td>0.0</td>\n",
       "      <td>459.400000</td>\n",
       "      <td>0.022864</td>\n",
       "      <td>385.826420</td>\n",
       "    </tr>\n",
       "    <tr>\n",
       "      <th>8</th>\n",
       "      <td>12356.0</td>\n",
       "      <td>2.0</td>\n",
       "      <td>582.906877</td>\n",
       "      <td>303.0</td>\n",
       "      <td>937.143333</td>\n",
       "      <td>0.056602</td>\n",
       "      <td>782.201027</td>\n",
       "    </tr>\n",
       "    <tr>\n",
       "      <th>9</th>\n",
       "      <td>12357.0</td>\n",
       "      <td>0.0</td>\n",
       "      <td>290.906877</td>\n",
       "      <td>0.0</td>\n",
       "      <td>6207.670000</td>\n",
       "      <td>0.035822</td>\n",
       "      <td>385.826420</td>\n",
       "    </tr>\n",
       "  </tbody>\n",
       "</table>\n",
       "</div>"
      ],
      "text/plain": [
       "   customer_id  frequency           T  recency  monetary_value  \\\n",
       "0      12346.0        0.0  582.906877      0.0    77183.600000   \n",
       "1      12347.0        6.0  624.906877    365.0      615.714286   \n",
       "2      12349.0        0.0  275.906877      0.0     1757.550000   \n",
       "3      12350.0        0.0  567.906877      0.0      334.400000   \n",
       "4      12352.0        7.0  553.906877    260.0      313.255000   \n",
       "5      12353.0        0.0  461.906877      0.0       89.000000   \n",
       "6      12354.0        0.0  489.906877      0.0     1079.400000   \n",
       "7      12355.0        0.0  471.906877      0.0      459.400000   \n",
       "8      12356.0        2.0  582.906877    303.0      937.143333   \n",
       "9      12357.0        0.0  290.906877      0.0     6207.670000   \n",
       "\n",
       "   predicted_purchases   avg_spent  \n",
       "0             0.018713  385.826420  \n",
       "1             0.047813  589.213093  \n",
       "2             0.037587  385.826420  \n",
       "3             0.019184  385.826420  \n",
       "4             0.010474  320.545879  \n",
       "5             0.023330  385.826420  \n",
       "6             0.022070  385.826420  \n",
       "7             0.022864  385.826420  \n",
       "8             0.056602  782.201027  \n",
       "9             0.035822  385.826420  "
      ]
     },
     "execution_count": 61,
     "metadata": {},
     "output_type": "execute_result"
    }
   ],
   "source": [
    "data['avg_spent'] = ggf.conditional_expected_average_profit(\n",
    "        data['frequency'],\n",
    "        data['monetary_value']\n",
    "    )\n",
    "\n",
    "data.head(10)"
   ]
  },
  {
   "cell_type": "code",
   "execution_count": 62,
   "id": "3d70b8bd",
   "metadata": {},
   "outputs": [
    {
     "data": {
      "text/html": [
       "<div>\n",
       "<style scoped>\n",
       "    .dataframe tbody tr th:only-of-type {\n",
       "        vertical-align: middle;\n",
       "    }\n",
       "\n",
       "    .dataframe tbody tr th {\n",
       "        vertical-align: top;\n",
       "    }\n",
       "\n",
       "    .dataframe thead th {\n",
       "        text-align: right;\n",
       "    }\n",
       "</style>\n",
       "<table border=\"1\" class=\"dataframe\">\n",
       "  <thead>\n",
       "    <tr style=\"text-align: right;\">\n",
       "      <th></th>\n",
       "      <th>customer_id</th>\n",
       "      <th>frequency</th>\n",
       "      <th>T</th>\n",
       "      <th>recency</th>\n",
       "      <th>monetary_value</th>\n",
       "      <th>predicted_purchases</th>\n",
       "      <th>avg_spent</th>\n",
       "      <th>clv</th>\n",
       "    </tr>\n",
       "  </thead>\n",
       "  <tbody>\n",
       "    <tr>\n",
       "      <th>0</th>\n",
       "      <td>12346.0</td>\n",
       "      <td>0.0</td>\n",
       "      <td>582.906877</td>\n",
       "      <td>0.0</td>\n",
       "      <td>77183.600000</td>\n",
       "      <td>0.018713</td>\n",
       "      <td>385.826420</td>\n",
       "      <td>46.470099</td>\n",
       "    </tr>\n",
       "    <tr>\n",
       "      <th>1</th>\n",
       "      <td>12347.0</td>\n",
       "      <td>6.0</td>\n",
       "      <td>624.906877</td>\n",
       "      <td>365.0</td>\n",
       "      <td>615.714286</td>\n",
       "      <td>0.047813</td>\n",
       "      <td>589.213093</td>\n",
       "      <td>156.803994</td>\n",
       "    </tr>\n",
       "    <tr>\n",
       "      <th>2</th>\n",
       "      <td>12349.0</td>\n",
       "      <td>0.0</td>\n",
       "      <td>275.906877</td>\n",
       "      <td>0.0</td>\n",
       "      <td>1757.550000</td>\n",
       "      <td>0.037587</td>\n",
       "      <td>385.826420</td>\n",
       "      <td>88.689131</td>\n",
       "    </tr>\n",
       "    <tr>\n",
       "      <th>3</th>\n",
       "      <td>12350.0</td>\n",
       "      <td>0.0</td>\n",
       "      <td>567.906877</td>\n",
       "      <td>0.0</td>\n",
       "      <td>334.400000</td>\n",
       "      <td>0.019184</td>\n",
       "      <td>385.826420</td>\n",
       "      <td>47.574873</td>\n",
       "    </tr>\n",
       "    <tr>\n",
       "      <th>4</th>\n",
       "      <td>12352.0</td>\n",
       "      <td>7.0</td>\n",
       "      <td>553.906877</td>\n",
       "      <td>260.0</td>\n",
       "      <td>313.255000</td>\n",
       "      <td>0.010474</td>\n",
       "      <td>320.545879</td>\n",
       "      <td>17.959220</td>\n",
       "    </tr>\n",
       "    <tr>\n",
       "      <th>5</th>\n",
       "      <td>12353.0</td>\n",
       "      <td>0.0</td>\n",
       "      <td>461.906877</td>\n",
       "      <td>0.0</td>\n",
       "      <td>89.000000</td>\n",
       "      <td>0.023330</td>\n",
       "      <td>385.826420</td>\n",
       "      <td>57.186531</td>\n",
       "    </tr>\n",
       "    <tr>\n",
       "      <th>6</th>\n",
       "      <td>12354.0</td>\n",
       "      <td>0.0</td>\n",
       "      <td>489.906877</td>\n",
       "      <td>0.0</td>\n",
       "      <td>1079.400000</td>\n",
       "      <td>0.022070</td>\n",
       "      <td>385.826420</td>\n",
       "      <td>54.288373</td>\n",
       "    </tr>\n",
       "    <tr>\n",
       "      <th>7</th>\n",
       "      <td>12355.0</td>\n",
       "      <td>0.0</td>\n",
       "      <td>471.906877</td>\n",
       "      <td>0.0</td>\n",
       "      <td>459.400000</td>\n",
       "      <td>0.022864</td>\n",
       "      <td>385.826420</td>\n",
       "      <td>56.116524</td>\n",
       "    </tr>\n",
       "    <tr>\n",
       "      <th>8</th>\n",
       "      <td>12356.0</td>\n",
       "      <td>2.0</td>\n",
       "      <td>582.906877</td>\n",
       "      <td>303.0</td>\n",
       "      <td>937.143333</td>\n",
       "      <td>0.056602</td>\n",
       "      <td>782.201027</td>\n",
       "      <td>266.904099</td>\n",
       "    </tr>\n",
       "    <tr>\n",
       "      <th>9</th>\n",
       "      <td>12357.0</td>\n",
       "      <td>0.0</td>\n",
       "      <td>290.906877</td>\n",
       "      <td>0.0</td>\n",
       "      <td>6207.670000</td>\n",
       "      <td>0.035822</td>\n",
       "      <td>385.826420</td>\n",
       "      <td>84.909493</td>\n",
       "    </tr>\n",
       "  </tbody>\n",
       "</table>\n",
       "</div>"
      ],
      "text/plain": [
       "   customer_id  frequency           T  recency  monetary_value  \\\n",
       "0      12346.0        0.0  582.906877      0.0    77183.600000   \n",
       "1      12347.0        6.0  624.906877    365.0      615.714286   \n",
       "2      12349.0        0.0  275.906877      0.0     1757.550000   \n",
       "3      12350.0        0.0  567.906877      0.0      334.400000   \n",
       "4      12352.0        7.0  553.906877    260.0      313.255000   \n",
       "5      12353.0        0.0  461.906877      0.0       89.000000   \n",
       "6      12354.0        0.0  489.906877      0.0     1079.400000   \n",
       "7      12355.0        0.0  471.906877      0.0      459.400000   \n",
       "8      12356.0        2.0  582.906877    303.0      937.143333   \n",
       "9      12357.0        0.0  290.906877      0.0     6207.670000   \n",
       "\n",
       "   predicted_purchases   avg_spent         clv  \n",
       "0             0.018713  385.826420   46.470099  \n",
       "1             0.047813  589.213093  156.803994  \n",
       "2             0.037587  385.826420   88.689131  \n",
       "3             0.019184  385.826420   47.574873  \n",
       "4             0.010474  320.545879   17.959220  \n",
       "5             0.023330  385.826420   57.186531  \n",
       "6             0.022070  385.826420   54.288373  \n",
       "7             0.022864  385.826420   56.116524  \n",
       "8             0.056602  782.201027  266.904099  \n",
       "9             0.035822  385.826420   84.909493  "
      ]
     },
     "execution_count": 62,
     "metadata": {},
     "output_type": "execute_result"
    }
   ],
   "source": [
    "data['clv'] = ggf.customer_lifetime_value(\n",
    "    bgf, # mesmo modelo utilizado para prever pedidos futuros\n",
    "    data['frequency'],\n",
    "    data['recency'],\n",
    "    data['T'],\n",
    "    data['monetary_value'],\n",
    "    time=12, # número de meses à frente\n",
    "    discount_rate=0.1 # taxa de desconto mensal\n",
    ")\n",
    "\n",
    "data.head(10)"
   ]
  },
  {
   "cell_type": "markdown",
   "id": "46699d9c",
   "metadata": {},
   "source": [
    "### Por fim, podemos juntar as estimativas do lifetimes com a segmentação do k-means e ver se os dados fazem sentido"
   ]
  },
  {
   "cell_type": "code",
   "execution_count": 63,
   "id": "ffbe278f",
   "metadata": {},
   "outputs": [],
   "source": [
    "customer_clusters = customers[['customer_id'\n",
    "                               , 'OverallScore'\n",
    "                               , 'recency_cluster'\n",
    "                               , 'average_time_between_orders_cluster'\n",
    "                               , 'average_ticket_cluster'\n",
    "                               , 'transactions_cluster']]"
   ]
  },
  {
   "cell_type": "code",
   "execution_count": 64,
   "id": "003a1c03",
   "metadata": {},
   "outputs": [],
   "source": [
    "final_dataset = pd.merge(data, customer_clusters, on='customer_id', how='inner')"
   ]
  },
  {
   "cell_type": "code",
   "execution_count": 65,
   "id": "1ec3990e",
   "metadata": {},
   "outputs": [],
   "source": [
    "def final_agg(x):\n",
    "    names = {\n",
    "          'customers': x['customer_id'].nunique()\n",
    "        , 'frequency': x['frequency'].mean()\n",
    "        , 'T': x['T'].mean() \n",
    "        , 'recency': x['recency'].mean()\n",
    "        , 'monetary_value': (x['monetary_value']*x['frequency']).sum()/x['frequency'].sum()\n",
    "        , 'avg_spent':  (x['avg_spent']*x['frequency']).sum()/x['frequency'].sum()\n",
    "        , 'clv': x['clv'].mean()\n",
    "        , 'predicted_purchases': x['predicted_purchases'].mean()\n",
    "    }\n",
    "    return pd.Series(names, index=[\n",
    "                                    'customers'\n",
    "                                  , 'frequency'\n",
    "                                  , 'T'\n",
    "                                  , 'recency'\n",
    "                                  , 'monetary_value'\n",
    "                                  , 'avg_spent'\n",
    "                                  , 'clv'\n",
    "                                  , 'predicted_purchases'\n",
    "                                  ])"
   ]
  },
  {
   "cell_type": "code",
   "execution_count": 66,
   "id": "75f02d86",
   "metadata": {
    "scrolled": true
   },
   "outputs": [],
   "source": [
    "final_dataset_agg = final_dataset.groupby('OverallScore').apply(final_agg)"
   ]
  },
  {
   "cell_type": "code",
   "execution_count": 67,
   "id": "2159a823",
   "metadata": {},
   "outputs": [
    {
     "data": {
      "text/html": [
       "<div>\n",
       "<style scoped>\n",
       "    .dataframe tbody tr th:only-of-type {\n",
       "        vertical-align: middle;\n",
       "    }\n",
       "\n",
       "    .dataframe tbody tr th {\n",
       "        vertical-align: top;\n",
       "    }\n",
       "\n",
       "    .dataframe thead th {\n",
       "        text-align: right;\n",
       "    }\n",
       "</style>\n",
       "<table border=\"1\" class=\"dataframe\">\n",
       "  <thead>\n",
       "    <tr style=\"text-align: right;\">\n",
       "      <th></th>\n",
       "      <th>customers</th>\n",
       "      <th>frequency</th>\n",
       "      <th>T</th>\n",
       "      <th>recency</th>\n",
       "      <th>monetary_value</th>\n",
       "      <th>avg_spent</th>\n",
       "      <th>clv</th>\n",
       "      <th>predicted_purchases</th>\n",
       "    </tr>\n",
       "    <tr>\n",
       "      <th>OverallScore</th>\n",
       "      <th></th>\n",
       "      <th></th>\n",
       "      <th></th>\n",
       "      <th></th>\n",
       "      <th></th>\n",
       "      <th></th>\n",
       "      <th></th>\n",
       "      <th></th>\n",
       "    </tr>\n",
       "  </thead>\n",
       "  <tbody>\n",
       "    <tr>\n",
       "      <th>0</th>\n",
       "      <td>510.0</td>\n",
       "      <td>0.023529</td>\n",
       "      <td>555.410798</td>\n",
       "      <td>0.000000</td>\n",
       "      <td>224.043750</td>\n",
       "      <td>295.028961</td>\n",
       "      <td>4.779659e+01</td>\n",
       "      <td>1.932723e-02</td>\n",
       "    </tr>\n",
       "    <tr>\n",
       "      <th>1</th>\n",
       "      <td>466.0</td>\n",
       "      <td>0.366953</td>\n",
       "      <td>458.097864</td>\n",
       "      <td>13.244635</td>\n",
       "      <td>650.801401</td>\n",
       "      <td>575.180937</td>\n",
       "      <td>5.291578e+01</td>\n",
       "      <td>2.136112e-02</td>\n",
       "    </tr>\n",
       "    <tr>\n",
       "      <th>2</th>\n",
       "      <td>1080.0</td>\n",
       "      <td>0.721296</td>\n",
       "      <td>391.831877</td>\n",
       "      <td>49.486111</td>\n",
       "      <td>321.961999</td>\n",
       "      <td>339.954685</td>\n",
       "      <td>6.701214e+01</td>\n",
       "      <td>2.908629e-02</td>\n",
       "    </tr>\n",
       "    <tr>\n",
       "      <th>3</th>\n",
       "      <td>1418.0</td>\n",
       "      <td>2.318759</td>\n",
       "      <td>474.966115</td>\n",
       "      <td>181.277151</td>\n",
       "      <td>364.073992</td>\n",
       "      <td>369.526663</td>\n",
       "      <td>8.125571e+01</td>\n",
       "      <td>3.731711e-02</td>\n",
       "    </tr>\n",
       "    <tr>\n",
       "      <th>4</th>\n",
       "      <td>719.0</td>\n",
       "      <td>8.425591</td>\n",
       "      <td>568.520229</td>\n",
       "      <td>290.399166</td>\n",
       "      <td>436.903053</td>\n",
       "      <td>428.636679</td>\n",
       "      <td>5.555495e+01</td>\n",
       "      <td>1.642372e-02</td>\n",
       "    </tr>\n",
       "    <tr>\n",
       "      <th>5</th>\n",
       "      <td>97.0</td>\n",
       "      <td>28.762887</td>\n",
       "      <td>612.607908</td>\n",
       "      <td>348.567010</td>\n",
       "      <td>744.962209</td>\n",
       "      <td>737.417400</td>\n",
       "      <td>1.306458e-01</td>\n",
       "      <td>5.796950e-05</td>\n",
       "    </tr>\n",
       "    <tr>\n",
       "      <th>6</th>\n",
       "      <td>7.0</td>\n",
       "      <td>109.714286</td>\n",
       "      <td>627.478305</td>\n",
       "      <td>368.428571</td>\n",
       "      <td>640.683375</td>\n",
       "      <td>637.550672</td>\n",
       "      <td>3.732573e-12</td>\n",
       "      <td>2.378101e-16</td>\n",
       "    </tr>\n",
       "  </tbody>\n",
       "</table>\n",
       "</div>"
      ],
      "text/plain": [
       "              customers   frequency           T     recency  monetary_value  \\\n",
       "OverallScore                                                                  \n",
       "0                 510.0    0.023529  555.410798    0.000000      224.043750   \n",
       "1                 466.0    0.366953  458.097864   13.244635      650.801401   \n",
       "2                1080.0    0.721296  391.831877   49.486111      321.961999   \n",
       "3                1418.0    2.318759  474.966115  181.277151      364.073992   \n",
       "4                 719.0    8.425591  568.520229  290.399166      436.903053   \n",
       "5                  97.0   28.762887  612.607908  348.567010      744.962209   \n",
       "6                   7.0  109.714286  627.478305  368.428571      640.683375   \n",
       "\n",
       "               avg_spent           clv  predicted_purchases  \n",
       "OverallScore                                                 \n",
       "0             295.028961  4.779659e+01         1.932723e-02  \n",
       "1             575.180937  5.291578e+01         2.136112e-02  \n",
       "2             339.954685  6.701214e+01         2.908629e-02  \n",
       "3             369.526663  8.125571e+01         3.731711e-02  \n",
       "4             428.636679  5.555495e+01         1.642372e-02  \n",
       "5             737.417400  1.306458e-01         5.796950e-05  \n",
       "6             637.550672  3.732573e-12         2.378101e-16  "
      ]
     },
     "execution_count": 67,
     "metadata": {},
     "output_type": "execute_result"
    }
   ],
   "source": [
    "final_dataset_agg"
   ]
  },
  {
   "cell_type": "code",
   "execution_count": 68,
   "id": "1e4c0369",
   "metadata": {},
   "outputs": [
    {
     "data": {
      "image/png": "[encoded data removed]",
      "text/plain": [
       "<Figure size 1080x720 with 1 Axes>"
      ]
     },
     "metadata": {
      "needs_background": "light"
     },
     "output_type": "display_data"
    }
   ],
   "source": [
    "plt.figure(figsize=(15,10))\n",
    "final_dataset_agg['clv'].plot(kind='bar')\n",
    "plt.xlabel('Grupo')\n",
    "plt.ylabel('CLV')\n",
    "plt.show()"
   ]
  },
  {
   "cell_type": "markdown",
   "id": "09301172",
   "metadata": {},
   "source": [
    "### Inspecionando porque os grupos 5 e 6 ficaram com um CLV muito baixo"
   ]
  },
  {
   "cell_type": "code",
   "execution_count": 69,
   "id": "9e23ceaa",
   "metadata": {},
   "outputs": [
    {
     "data": {
      "text/html": [
       "<div>\n",
       "<style scoped>\n",
       "    .dataframe tbody tr th:only-of-type {\n",
       "        vertical-align: middle;\n",
       "    }\n",
       "\n",
       "    .dataframe tbody tr th {\n",
       "        vertical-align: top;\n",
       "    }\n",
       "\n",
       "    .dataframe thead th {\n",
       "        text-align: right;\n",
       "    }\n",
       "</style>\n",
       "<table border=\"1\" class=\"dataframe\">\n",
       "  <thead>\n",
       "    <tr style=\"text-align: right;\">\n",
       "      <th></th>\n",
       "      <th>customer_id</th>\n",
       "      <th>frequency</th>\n",
       "      <th>T</th>\n",
       "      <th>recency</th>\n",
       "      <th>monetary_value</th>\n",
       "      <th>predicted_purchases</th>\n",
       "      <th>avg_spent</th>\n",
       "      <th>clv</th>\n",
       "      <th>OverallScore</th>\n",
       "      <th>recency_cluster</th>\n",
       "      <th>average_time_between_orders_cluster</th>\n",
       "      <th>average_ticket_cluster</th>\n",
       "      <th>transactions_cluster</th>\n",
       "    </tr>\n",
       "  </thead>\n",
       "  <tbody>\n",
       "    <tr>\n",
       "      <th>44</th>\n",
       "      <td>12415.0</td>\n",
       "      <td>20.0</td>\n",
       "      <td>594.906877</td>\n",
       "      <td>313.0</td>\n",
       "      <td>5948.310952</td>\n",
       "      <td>3.516211e-05</td>\n",
       "      <td>5739.053999</td>\n",
       "      <td>9.593129e-01</td>\n",
       "      <td>5</td>\n",
       "      <td>2</td>\n",
       "      <td>1</td>\n",
       "      <td>0</td>\n",
       "      <td>2</td>\n",
       "    </tr>\n",
       "    <tr>\n",
       "      <th>86</th>\n",
       "      <td>12471.0</td>\n",
       "      <td>29.0</td>\n",
       "      <td>621.906877</td>\n",
       "      <td>362.0</td>\n",
       "      <td>660.801667</td>\n",
       "      <td>3.969349e-06</td>\n",
       "      <td>653.583334</td>\n",
       "      <td>1.195883e-02</td>\n",
       "      <td>5</td>\n",
       "      <td>2</td>\n",
       "      <td>1</td>\n",
       "      <td>0</td>\n",
       "      <td>2</td>\n",
       "    </tr>\n",
       "    <tr>\n",
       "      <th>163</th>\n",
       "      <td>12569.0</td>\n",
       "      <td>31.0</td>\n",
       "      <td>509.906877</td>\n",
       "      <td>250.0</td>\n",
       "      <td>128.896563</td>\n",
       "      <td>1.602276e-08</td>\n",
       "      <td>135.216755</td>\n",
       "      <td>9.303156e-06</td>\n",
       "      <td>5</td>\n",
       "      <td>2</td>\n",
       "      <td>1</td>\n",
       "      <td>0</td>\n",
       "      <td>2</td>\n",
       "    </tr>\n",
       "    <tr>\n",
       "      <th>206</th>\n",
       "      <td>12621.0</td>\n",
       "      <td>19.0</td>\n",
       "      <td>622.906877</td>\n",
       "      <td>364.0</td>\n",
       "      <td>684.483500</td>\n",
       "      <td>3.715225e-04</td>\n",
       "      <td>672.680260</td>\n",
       "      <td>1.210834e+00</td>\n",
       "      <td>5</td>\n",
       "      <td>2</td>\n",
       "      <td>1</td>\n",
       "      <td>0</td>\n",
       "      <td>2</td>\n",
       "    </tr>\n",
       "    <tr>\n",
       "      <th>251</th>\n",
       "      <td>12681.0</td>\n",
       "      <td>21.0</td>\n",
       "      <td>624.906877</td>\n",
       "      <td>353.0</td>\n",
       "      <td>626.706364</td>\n",
       "      <td>7.890799e-05</td>\n",
       "      <td>618.060645</td>\n",
       "      <td>2.336472e-01</td>\n",
       "      <td>5</td>\n",
       "      <td>2</td>\n",
       "      <td>1</td>\n",
       "      <td>0</td>\n",
       "      <td>2</td>\n",
       "    </tr>\n",
       "    <tr>\n",
       "      <th>...</th>\n",
       "      <td>...</td>\n",
       "      <td>...</td>\n",
       "      <td>...</td>\n",
       "      <td>...</td>\n",
       "      <td>...</td>\n",
       "      <td>...</td>\n",
       "      <td>...</td>\n",
       "      <td>...</td>\n",
       "      <td>...</td>\n",
       "      <td>...</td>\n",
       "      <td>...</td>\n",
       "      <td>...</td>\n",
       "      <td>...</td>\n",
       "    </tr>\n",
       "    <tr>\n",
       "      <th>4160</th>\n",
       "      <td>18102.0</td>\n",
       "      <td>59.0</td>\n",
       "      <td>624.906877</td>\n",
       "      <td>367.0</td>\n",
       "      <td>4327.621667</td>\n",
       "      <td>4.332339e-12</td>\n",
       "      <td>4276.072781</td>\n",
       "      <td>8.002446e-08</td>\n",
       "      <td>5</td>\n",
       "      <td>2</td>\n",
       "      <td>1</td>\n",
       "      <td>0</td>\n",
       "      <td>2</td>\n",
       "    </tr>\n",
       "    <tr>\n",
       "      <th>4165</th>\n",
       "      <td>18109.0</td>\n",
       "      <td>25.0</td>\n",
       "      <td>626.906877</td>\n",
       "      <td>368.0</td>\n",
       "      <td>309.729615</td>\n",
       "      <td>2.946338e-05</td>\n",
       "      <td>312.037146</td>\n",
       "      <td>4.319273e-02</td>\n",
       "      <td>5</td>\n",
       "      <td>2</td>\n",
       "      <td>1</td>\n",
       "      <td>0</td>\n",
       "      <td>2</td>\n",
       "    </tr>\n",
       "    <tr>\n",
       "      <th>4172</th>\n",
       "      <td>18118.0</td>\n",
       "      <td>25.0</td>\n",
       "      <td>626.906877</td>\n",
       "      <td>359.0</td>\n",
       "      <td>217.454615</td>\n",
       "      <td>1.634685e-05</td>\n",
       "      <td>222.560257</td>\n",
       "      <td>1.709242e-02</td>\n",
       "      <td>5</td>\n",
       "      <td>2</td>\n",
       "      <td>1</td>\n",
       "      <td>0</td>\n",
       "      <td>2</td>\n",
       "    </tr>\n",
       "    <tr>\n",
       "      <th>4211</th>\n",
       "      <td>18172.0</td>\n",
       "      <td>19.0</td>\n",
       "      <td>546.906877</td>\n",
       "      <td>275.0</td>\n",
       "      <td>378.084000</td>\n",
       "      <td>3.032233e-05</td>\n",
       "      <td>378.389989</td>\n",
       "      <td>5.360272e-02</td>\n",
       "      <td>5</td>\n",
       "      <td>2</td>\n",
       "      <td>1</td>\n",
       "      <td>0</td>\n",
       "      <td>2</td>\n",
       "    </tr>\n",
       "    <tr>\n",
       "      <th>4256</th>\n",
       "      <td>18229.0</td>\n",
       "      <td>19.0</td>\n",
       "      <td>630.906877</td>\n",
       "      <td>362.0</td>\n",
       "      <td>363.845000</td>\n",
       "      <td>2.618582e-04</td>\n",
       "      <td>364.713729</td>\n",
       "      <td>4.642975e-01</td>\n",
       "      <td>5</td>\n",
       "      <td>2</td>\n",
       "      <td>1</td>\n",
       "      <td>0</td>\n",
       "      <td>2</td>\n",
       "    </tr>\n",
       "  </tbody>\n",
       "</table>\n",
       "<p>104 rows × 13 columns</p>\n",
       "</div>"
      ],
      "text/plain": [
       "      customer_id  frequency           T  recency  monetary_value  \\\n",
       "44        12415.0       20.0  594.906877    313.0     5948.310952   \n",
       "86        12471.0       29.0  621.906877    362.0      660.801667   \n",
       "163       12569.0       31.0  509.906877    250.0      128.896563   \n",
       "206       12621.0       19.0  622.906877    364.0      684.483500   \n",
       "251       12681.0       21.0  624.906877    353.0      626.706364   \n",
       "...           ...        ...         ...      ...             ...   \n",
       "4160      18102.0       59.0  624.906877    367.0     4327.621667   \n",
       "4165      18109.0       25.0  626.906877    368.0      309.729615   \n",
       "4172      18118.0       25.0  626.906877    359.0      217.454615   \n",
       "4211      18172.0       19.0  546.906877    275.0      378.084000   \n",
       "4256      18229.0       19.0  630.906877    362.0      363.845000   \n",
       "\n",
       "      predicted_purchases    avg_spent           clv  OverallScore  \\\n",
       "44           3.516211e-05  5739.053999  9.593129e-01             5   \n",
       "86           3.969349e-06   653.583334  1.195883e-02             5   \n",
       "163          1.602276e-08   135.216755  9.303156e-06             5   \n",
       "206          3.715225e-04   672.680260  1.210834e+00             5   \n",
       "251          7.890799e-05   618.060645  2.336472e-01             5   \n",
       "...                   ...          ...           ...           ...   \n",
       "4160         4.332339e-12  4276.072781  8.002446e-08             5   \n",
       "4165         2.946338e-05   312.037146  4.319273e-02             5   \n",
       "4172         1.634685e-05   222.560257  1.709242e-02             5   \n",
       "4211         3.032233e-05   378.389989  5.360272e-02             5   \n",
       "4256         2.618582e-04   364.713729  4.642975e-01             5   \n",
       "\n",
       "      recency_cluster  average_time_between_orders_cluster  \\\n",
       "44                  2                                    1   \n",
       "86                  2                                    1   \n",
       "163                 2                                    1   \n",
       "206                 2                                    1   \n",
       "251                 2                                    1   \n",
       "...               ...                                  ...   \n",
       "4160                2                                    1   \n",
       "4165                2                                    1   \n",
       "4172                2                                    1   \n",
       "4211                2                                    1   \n",
       "4256                2                                    1   \n",
       "\n",
       "      average_ticket_cluster  transactions_cluster  \n",
       "44                         0                     2  \n",
       "86                         0                     2  \n",
       "163                        0                     2  \n",
       "206                        0                     2  \n",
       "251                        0                     2  \n",
       "...                      ...                   ...  \n",
       "4160                       0                     2  \n",
       "4165                       0                     2  \n",
       "4172                       0                     2  \n",
       "4211                       0                     2  \n",
       "4256                       0                     2  \n",
       "\n",
       "[104 rows x 13 columns]"
      ]
     },
     "execution_count": 69,
     "metadata": {},
     "output_type": "execute_result"
    }
   ],
   "source": [
    "final_dataset[final_dataset['OverallScore']>4]"
   ]
  },
  {
   "cell_type": "markdown",
   "id": "ae5d2e33",
   "metadata": {},
   "source": [
    "### Podemos notar que a previsão de compras futuras é bem baixa. Isso se deve ao fato de que, como estes clientes possuiam uma frequência de compra muito alta, um tempo pequeno sem comprar é um indício de que este cliente já não está mais \"vivo\"\n",
    "### De toda forma, neste caso, por serem clientes que possuiam alto gasto médio e alta frequência, poderíamos pensar em formas de recuperá-los, assim como podemos definir ações especificas para cada um dos demais grupos para mover os clientes cada vez mais acima na classificação"
   ]
  }
 ],
 "metadata": {
  "kernelspec": {
   "display_name": "Python 3 (ipykernel)",
   "language": "python",
   "name": "python3"
  },
  "language_info": {
   "codemirror_mode": {
    "name": "ipython",
    "version": 3
   },
   "file_extension": ".py",
   "mimetype": "text/x-python",
   "name": "python",
   "nbconvert_exporter": "python",
   "pygments_lexer": "ipython3",
   "version": "3.10.6"
  }
 },
 "nbformat": 4,
 "nbformat_minor": 5
}
